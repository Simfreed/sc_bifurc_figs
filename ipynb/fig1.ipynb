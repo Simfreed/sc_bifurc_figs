{
 "cells": [
  {
   "cell_type": "code",
   "execution_count": 1,
   "metadata": {},
   "outputs": [],
   "source": [
    "import numpy as np\n",
    "import scipy"
   ]
  },
  {
   "cell_type": "code",
   "execution_count": 2,
   "metadata": {},
   "outputs": [],
   "source": [
    "import myfun as mf\n",
    "import sys\n",
    "import os"
   ]
  },
  {
   "cell_type": "code",
   "execution_count": 3,
   "metadata": {},
   "outputs": [],
   "source": [
    "import matplotlib\n",
    "matplotlib.use('Agg')"
   ]
  },
  {
   "cell_type": "code",
   "execution_count": 4,
   "metadata": {},
   "outputs": [],
   "source": [
    "from matplotlib import gridspec, rc\n",
    "import matplotlib.pyplot as plt\n",
    "import matplotlib.patches as mpatches"
   ]
  },
  {
   "cell_type": "code",
   "execution_count": 5,
   "metadata": {},
   "outputs": [],
   "source": [
    "rc('font',**{'family':'sans-serif','sans-serif':['Arial']})\n",
    "rc('text',usetex=True)"
   ]
  },
  {
   "cell_type": "markdown",
   "metadata": {},
   "source": [
    "###########################<br>\n",
    "##### Graphic loading #####<br>\n",
    "###########################"
   ]
  },
  {
   "cell_type": "code",
   "execution_count": 8,
   "metadata": {},
   "outputs": [],
   "source": [
    "pngdir    = '../pngs'\n",
    "figdir    = 'figs'"
   ]
  },
  {
   "cell_type": "code",
   "execution_count": 9,
   "metadata": {},
   "outputs": [],
   "source": [
    "cell_nms  = ['hmsc_yellow','neutrophil_red','monocyte_blue','lightning_white',\n",
    "             'lightning_orange', 'lightning_purple_flip','waddington']\n",
    "cell_pics = [plt.imread('{0}/{1}.png'.format(pngdir,nm)) for nm in cell_nms]"
   ]
  },
  {
   "cell_type": "markdown",
   "metadata": {},
   "source": [
    "###########################<br>\n",
    "#### Bifurcation loading ##<br>\n",
    "###########################"
   ]
  },
  {
   "cell_type": "code",
   "execution_count": 11,
   "metadata": {},
   "outputs": [
    {
     "ename": "FileNotFoundError",
     "evalue": "[Errno 2] No such file or directory: '../no_bifurc/bvars.npy'",
     "output_type": "error",
     "traceback": [
      "\u001b[0;31m---------------------------------------------------------------------------\u001b[0m",
      "\u001b[0;31mFileNotFoundError\u001b[0m                         Traceback (most recent call last)",
      "\u001b[0;32m<ipython-input-11-ed06c857e85c>\u001b[0m in \u001b[0;36m<module>\u001b[0;34m\u001b[0m\n\u001b[1;32m      3\u001b[0m \u001b[0mpf_dir\u001b[0m \u001b[0;34m=\u001b[0m \u001b[0;34m'../pf_scale20'\u001b[0m\u001b[0;34m\u001b[0m\u001b[0;34m\u001b[0m\u001b[0m\n\u001b[1;32m      4\u001b[0m \u001b[0mdatdirs\u001b[0m \u001b[0;34m=\u001b[0m \u001b[0;34m[\u001b[0m\u001b[0mnb_dir\u001b[0m\u001b[0;34m,\u001b[0m \u001b[0msn_dir\u001b[0m\u001b[0;34m,\u001b[0m \u001b[0mpf_dir\u001b[0m\u001b[0;34m]\u001b[0m\u001b[0;34m\u001b[0m\u001b[0;34m\u001b[0m\u001b[0m\n\u001b[0;32m----> 5\u001b[0;31m \u001b[0mbif_vars\u001b[0m \u001b[0;34m=\u001b[0m \u001b[0;34m[\u001b[0m\u001b[0mnp\u001b[0m\u001b[0;34m.\u001b[0m\u001b[0mload\u001b[0m\u001b[0;34m(\u001b[0m\u001b[0;34m'{0}/bvars.npy'\u001b[0m\u001b[0;34m.\u001b[0m\u001b[0mformat\u001b[0m\u001b[0;34m(\u001b[0m\u001b[0mddir\u001b[0m\u001b[0;34m)\u001b[0m\u001b[0;34m)\u001b[0m \u001b[0;32mfor\u001b[0m \u001b[0mddir\u001b[0m \u001b[0;32min\u001b[0m \u001b[0mdatdirs\u001b[0m\u001b[0;34m]\u001b[0m\u001b[0;34m\u001b[0m\u001b[0;34m\u001b[0m\u001b[0m\n\u001b[0m\u001b[1;32m      6\u001b[0m \u001b[0mgexps\u001b[0m    \u001b[0;34m=\u001b[0m \u001b[0;34m[\u001b[0m\u001b[0mnp\u001b[0m\u001b[0;34m.\u001b[0m\u001b[0mload\u001b[0m\u001b[0;34m(\u001b[0m\u001b[0;34m'{0}/gexp.npy'\u001b[0m\u001b[0;34m.\u001b[0m\u001b[0mformat\u001b[0m\u001b[0;34m(\u001b[0m\u001b[0mddir\u001b[0m\u001b[0;34m)\u001b[0m\u001b[0;34m)\u001b[0m \u001b[0;32mfor\u001b[0m \u001b[0mddir\u001b[0m \u001b[0;32min\u001b[0m \u001b[0mdatdirs\u001b[0m\u001b[0;34m]\u001b[0m\u001b[0;34m\u001b[0m\u001b[0;34m\u001b[0m\u001b[0m\n",
      "\u001b[0;32m<ipython-input-11-ed06c857e85c>\u001b[0m in \u001b[0;36m<listcomp>\u001b[0;34m(.0)\u001b[0m\n\u001b[1;32m      3\u001b[0m \u001b[0mpf_dir\u001b[0m \u001b[0;34m=\u001b[0m \u001b[0;34m'../pf_scale20'\u001b[0m\u001b[0;34m\u001b[0m\u001b[0;34m\u001b[0m\u001b[0m\n\u001b[1;32m      4\u001b[0m \u001b[0mdatdirs\u001b[0m \u001b[0;34m=\u001b[0m \u001b[0;34m[\u001b[0m\u001b[0mnb_dir\u001b[0m\u001b[0;34m,\u001b[0m \u001b[0msn_dir\u001b[0m\u001b[0;34m,\u001b[0m \u001b[0mpf_dir\u001b[0m\u001b[0;34m]\u001b[0m\u001b[0;34m\u001b[0m\u001b[0;34m\u001b[0m\u001b[0m\n\u001b[0;32m----> 5\u001b[0;31m \u001b[0mbif_vars\u001b[0m \u001b[0;34m=\u001b[0m \u001b[0;34m[\u001b[0m\u001b[0mnp\u001b[0m\u001b[0;34m.\u001b[0m\u001b[0mload\u001b[0m\u001b[0;34m(\u001b[0m\u001b[0;34m'{0}/bvars.npy'\u001b[0m\u001b[0;34m.\u001b[0m\u001b[0mformat\u001b[0m\u001b[0;34m(\u001b[0m\u001b[0mddir\u001b[0m\u001b[0;34m)\u001b[0m\u001b[0;34m)\u001b[0m \u001b[0;32mfor\u001b[0m \u001b[0mddir\u001b[0m \u001b[0;32min\u001b[0m \u001b[0mdatdirs\u001b[0m\u001b[0;34m]\u001b[0m\u001b[0;34m\u001b[0m\u001b[0;34m\u001b[0m\u001b[0m\n\u001b[0m\u001b[1;32m      6\u001b[0m \u001b[0mgexps\u001b[0m    \u001b[0;34m=\u001b[0m \u001b[0;34m[\u001b[0m\u001b[0mnp\u001b[0m\u001b[0;34m.\u001b[0m\u001b[0mload\u001b[0m\u001b[0;34m(\u001b[0m\u001b[0;34m'{0}/gexp.npy'\u001b[0m\u001b[0;34m.\u001b[0m\u001b[0mformat\u001b[0m\u001b[0;34m(\u001b[0m\u001b[0mddir\u001b[0m\u001b[0;34m)\u001b[0m\u001b[0;34m)\u001b[0m \u001b[0;32mfor\u001b[0m \u001b[0mddir\u001b[0m \u001b[0;32min\u001b[0m \u001b[0mdatdirs\u001b[0m\u001b[0;34m]\u001b[0m\u001b[0;34m\u001b[0m\u001b[0;34m\u001b[0m\u001b[0m\n",
      "\u001b[0;32m~/opt/anaconda3/lib/python3.7/site-packages/numpy/lib/npyio.py\u001b[0m in \u001b[0;36mload\u001b[0;34m(file, mmap_mode, allow_pickle, fix_imports, encoding)\u001b[0m\n\u001b[1;32m    426\u001b[0m         \u001b[0mown_fid\u001b[0m \u001b[0;34m=\u001b[0m \u001b[0;32mFalse\u001b[0m\u001b[0;34m\u001b[0m\u001b[0;34m\u001b[0m\u001b[0m\n\u001b[1;32m    427\u001b[0m     \u001b[0;32melse\u001b[0m\u001b[0;34m:\u001b[0m\u001b[0;34m\u001b[0m\u001b[0;34m\u001b[0m\u001b[0m\n\u001b[0;32m--> 428\u001b[0;31m         \u001b[0mfid\u001b[0m \u001b[0;34m=\u001b[0m \u001b[0mopen\u001b[0m\u001b[0;34m(\u001b[0m\u001b[0mos_fspath\u001b[0m\u001b[0;34m(\u001b[0m\u001b[0mfile\u001b[0m\u001b[0;34m)\u001b[0m\u001b[0;34m,\u001b[0m \u001b[0;34m\"rb\"\u001b[0m\u001b[0;34m)\u001b[0m\u001b[0;34m\u001b[0m\u001b[0;34m\u001b[0m\u001b[0m\n\u001b[0m\u001b[1;32m    429\u001b[0m         \u001b[0mown_fid\u001b[0m \u001b[0;34m=\u001b[0m \u001b[0;32mTrue\u001b[0m\u001b[0;34m\u001b[0m\u001b[0;34m\u001b[0m\u001b[0m\n\u001b[1;32m    430\u001b[0m \u001b[0;34m\u001b[0m\u001b[0m\n",
      "\u001b[0;31mFileNotFoundError\u001b[0m: [Errno 2] No such file or directory: '../no_bifurc/bvars.npy'"
     ]
    }
   ],
   "source": [
    "nb_dir = '../no_bifurc'\n",
    "sn_dir = '../sn1'\n",
    "pf_dir = '../pf_scale20'\n",
    "datdirs = [nb_dir, sn_dir, pf_dir]\n",
    "bif_vars = [np.load('{0}/bvars.npy'.format(ddir)) for ddir in datdirs]\n",
    "gexps    = [np.load('{0}/gexp.npy'.format(ddir)) for ddir in datdirs]"
   ]
  },
  {
   "cell_type": "markdown",
   "metadata": {},
   "source": [
    "###########################<br>\n",
    "### Manual clustering #####<br>\n",
    "###########################"
   ]
  },
  {
   "cell_type": "code",
   "execution_count": null,
   "metadata": {},
   "outputs": [],
   "source": [
    "clust_poss_nb = np.array([[0.7,1.72],[2,1]]) # for \"linear\" (hill coeff 1)\n",
    "clust_poss_sn = np.array([[0,3],[4,0]]) # for saddle node (hill coeff 2)\n",
    "clust_poss_pf = np.array([[2,2],[0,4],[4,0]]) # for \"pitchfork\" (hill coeff 2)"
   ]
  },
  {
   "cell_type": "code",
   "execution_count": null,
   "metadata": {},
   "outputs": [],
   "source": [
    "clust_poss = [clust_poss_nb, clust_poss_sn, clust_poss_pf]"
   ]
  },
  {
   "cell_type": "code",
   "execution_count": null,
   "metadata": {},
   "outputs": [],
   "source": [
    "clust_dists = [np.array([np.linalg.norm(gexps[i][...,0:2]-clust_poss[i][j], axis=2)\n",
    "                         for j in range(clust_poss[i].shape[0])])\n",
    "                        for i in range(len(clust_poss))]"
   ]
  },
  {
   "cell_type": "code",
   "execution_count": null,
   "metadata": {},
   "outputs": [],
   "source": [
    "clust_labels      = [np.argmin(cd,axis=0) for cd in clust_dists]\n",
    "clust_label_bools = [np.array(cl,dtype='bool') for cl in clust_labels]"
   ]
  },
  {
   "cell_type": "markdown",
   "metadata": {},
   "source": [
    "###########################<br>\n",
    "#### The figure ###########<br>\n",
    "###########################"
   ]
  },
  {
   "cell_type": "code",
   "execution_count": null,
   "metadata": {},
   "outputs": [],
   "source": [
    "plt.style.use('./one_col_fig.mplstyle')"
   ]
  },
  {
   "cell_type": "code",
   "execution_count": null,
   "metadata": {},
   "outputs": [],
   "source": [
    "frac = 2"
   ]
  },
  {
   "cell_type": "code",
   "execution_count": null,
   "metadata": {},
   "outputs": [],
   "source": [
    "marg_wd1 = 0.5\n",
    "marg_wd2 = 1\n",
    "marg_wd3 = 1.5\n",
    "marg_ht  = 0.5"
   ]
  },
  {
   "cell_type": "code",
   "execution_count": null,
   "metadata": {},
   "outputs": [],
   "source": [
    "a_ht    = 8"
   ]
  },
  {
   "cell_type": "code",
   "execution_count": null,
   "metadata": {},
   "outputs": [],
   "source": [
    "b_wd    = 3\n",
    "b_ht    = 3\n",
    "leg_ht  = 1.5"
   ]
  },
  {
   "cell_type": "code",
   "execution_count": null,
   "metadata": {},
   "outputs": [],
   "source": [
    "t_ht    = 6\n",
    "t_wd    = 12"
   ]
  },
  {
   "cell_type": "markdown",
   "metadata": {},
   "source": [
    "row heights"
   ]
  },
  {
   "cell_type": "code",
   "execution_count": null,
   "metadata": {},
   "outputs": [],
   "source": [
    "hts = np.array([\n",
    "    t_ht,\n",
    "    a_ht - t_ht,\n",
    "    marg_ht,\n",
    "    b_ht*2/3,\n",
    "    b_ht*1/3,\n",
    "    b_ht*1/3,\n",
    "    b_ht*1/3,\n",
    "    b_ht*2/3,\n",
    "    leg_ht\n",
    "])"
   ]
  },
  {
   "cell_type": "code",
   "execution_count": null,
   "metadata": {},
   "outputs": [],
   "source": [
    "wds = np.array([\n",
    "    marg_wd1,\n",
    "    b_wd - marg_wd1,\n",
    "    marg_wd2,\n",
    "    b_wd,\n",
    "    marg_wd2,\n",
    "    b_wd,\n",
    "    marg_wd3,\n",
    "    t_wd\n",
    "])"
   ]
  },
  {
   "cell_type": "code",
   "execution_count": null,
   "metadata": {},
   "outputs": [],
   "source": [
    "hts = np.array(frac*hts,dtype = int)\n",
    "wds = np.array(frac*wds,dtype = int)"
   ]
  },
  {
   "cell_type": "code",
   "execution_count": null,
   "metadata": {},
   "outputs": [],
   "source": [
    "rs = np.cumsum(hts) # starting rows\n",
    "cs = np.cumsum(wds) # starting cols"
   ]
  },
  {
   "cell_type": "code",
   "execution_count": null,
   "metadata": {},
   "outputs": [],
   "source": [
    "nr = np.sum(hts)\n",
    "nc = np.sum(wds)"
   ]
  },
  {
   "cell_type": "code",
   "execution_count": null,
   "metadata": {},
   "outputs": [],
   "source": [
    "wid = 11.4/2.54"
   ]
  },
  {
   "cell_type": "code",
   "execution_count": null,
   "metadata": {},
   "outputs": [],
   "source": [
    "ht  = wid*nr/nc"
   ]
  },
  {
   "cell_type": "code",
   "execution_count": null,
   "metadata": {},
   "outputs": [],
   "source": [
    "fig = plt.figure(figsize=(wid, ht), dpi=200)"
   ]
  },
  {
   "cell_type": "code",
   "execution_count": null,
   "metadata": {},
   "outputs": [],
   "source": [
    "gs   = gridspec.GridSpec(nr, nc)\n",
    "axA   = plt.subplot(gs[   0 :rs[1]  , cs[0]:cs[5]])"
   ]
  },
  {
   "cell_type": "code",
   "execution_count": null,
   "metadata": {},
   "outputs": [],
   "source": [
    "axB0  = plt.subplot(gs[rs[3]:rs[6]  ,   0  :cs[1]])\n",
    "axBL  = plt.subplot(gs[rs[7]:rs[8]  ,   0  :cs[5]])"
   ]
  },
  {
   "cell_type": "code",
   "execution_count": null,
   "metadata": {},
   "outputs": [],
   "source": [
    "axB1L   = plt.subplot(gs[rs[2]:rs[3],     0:cs[1]])\n",
    "axB1ar1 = plt.subplot(gs[rs[3]:rs[4], cs[1]:cs[2]])\n",
    "axB1a   = plt.subplot(gs[rs[2]:rs[4], cs[2]:cs[3]])\n",
    "axB1ar2 = plt.subplot(gs[rs[2]:rs[4], cs[3]:cs[4]])\n",
    "axB1b   = plt.subplot(gs[rs[2]:rs[4], cs[4]:cs[5]])"
   ]
  },
  {
   "cell_type": "code",
   "execution_count": null,
   "metadata": {},
   "outputs": [],
   "source": [
    "axB2L   = plt.subplot(gs[rs[6]:rs[7],     0:cs[1]])\n",
    "axB2ar1 = plt.subplot(gs[rs[5]:rs[6], cs[1]:cs[2]])\n",
    "axB2a   = plt.subplot(gs[rs[5]:rs[7], cs[2]:cs[3]])\n",
    "axB2ar2 = plt.subplot(gs[rs[5]:rs[7], cs[3]:cs[4]])\n",
    "axB2b   = plt.subplot(gs[rs[5]:rs[7], cs[4]:cs[5]])"
   ]
  },
  {
   "cell_type": "markdown",
   "metadata": {},
   "source": [
    "sb  = np.hstack([[0],rs])"
   ]
  },
  {
   "cell_type": "code",
   "execution_count": null,
   "metadata": {},
   "outputs": [],
   "source": [
    "rsC = [0, rs[0],rs[4],rs[8]]\n",
    "axC  = [plt.subplot( gs[rsC[i]:rsC[i+1],cs[6]:cs[7]], projection = '3d') for i in range(3)] # 3d time series"
   ]
  },
  {
   "cell_type": "code",
   "execution_count": null,
   "metadata": {},
   "outputs": [],
   "source": [
    "axAc = plt.subplot(gs[0:1,0:1])\n",
    "axBc = plt.subplot(gs[rs[1]:rs[2],0:1])\n",
    "axCc = plt.subplot(gs[0:1,cs[5]:cs[6]])"
   ]
  },
  {
   "cell_type": "markdown",
   "metadata": {},
   "source": [
    "########################<br>\n",
    "## A: waddington #######<br>\n",
    "########################"
   ]
  },
  {
   "cell_type": "code",
   "execution_count": null,
   "metadata": {},
   "outputs": [],
   "source": [
    "axA.set_xticks([])\n",
    "axA.set_yticks([])\n",
    "axA.imshow(cell_pics[6],extent=[-0.05,1.05,0.1,1.08],clip_on=False)\n",
    "axA.set_xlim(0,1)\n",
    "axA.set_ylim(0,1)\n",
    "axA.axis('off')"
   ]
  },
  {
   "cell_type": "markdown",
   "metadata": {},
   "source": [
    "#######################<br>\n",
    "## B: cell pics #######<br>\n",
    "#######################"
   ]
  },
  {
   "cell_type": "code",
   "execution_count": null,
   "metadata": {},
   "outputs": [],
   "source": [
    "axB    = [axB0, axB1a, axB1b, axB2a, axB2b]\n",
    "ctypes = [[0],[0,1],[1],[0,1,2],[1,2]]\n",
    "ncs    = [[12],[5,5],[11],[4,3,4],[5,7]]\n",
    "ncs    = [[70],[45,35],[75],[20,30,25],[35,40]] # ng = 10\n",
    "ncs    = [[50],[25,30],[53],[15,25,20],[32,28]] # ng = 8\n",
    "ncs    = [[35],[20,18],[37],[13,10,13],[21,20]] # ng = 7\n",
    "ncs    = [[20],[12,10],[21],[7,6,8],[13,10]] # ng = 5\n",
    "ncs    = [[14],[6,8],[14],[4,5,5],[7,7]] # ng = 4"
   ]
  },
  {
   "cell_type": "code",
   "execution_count": null,
   "metadata": {},
   "outputs": [],
   "source": [
    "sds    = [6,1,3,5,24]"
   ]
  },
  {
   "cell_type": "code",
   "execution_count": null,
   "metadata": {},
   "outputs": [],
   "source": [
    "ngrid = 4\n",
    "gsz   = 1\n",
    "imsz  = 0.6\n",
    "jsz   = gsz-imsz\n",
    "xmin     = -ngrid/2\n",
    "xmax     =  ngrid/2\n",
    "ymin     = -ngrid/2\n",
    "ymax     =  ngrid/2"
   ]
  },
  {
   "cell_type": "code",
   "execution_count": null,
   "metadata": {},
   "outputs": [],
   "source": [
    "xx = np.arange(xmin+gsz/2, xmax, gsz)\n",
    "yy = np.arange(ymin+gsz/2, ymax, gsz)"
   ]
  },
  {
   "cell_type": "code",
   "execution_count": null,
   "metadata": {},
   "outputs": [],
   "source": [
    "bbox_ctrs  = np.array([[[x,y] for x in xx] for y in yy]).reshape(len(xx)*len(yy),2)\n",
    "bbox_dists = np.linalg.norm(bbox_ctrs,axis=1)\n",
    "#bbox_dists = np.max(np.abs(bbox_ctrs),axis=1)\n",
    "bbox_sort  = np.argsort(bbox_dists)\n",
    "bbox_ctrs  = bbox_ctrs[bbox_sort]\n",
    "lims       = np.hstack([np.unique(bbox_dists[bbox_sort],return_index=True)[1],len(bbox_dists)])"
   ]
  },
  {
   "cell_type": "code",
   "execution_count": null,
   "metadata": {},
   "outputs": [],
   "source": [
    "for i in range(len(axB)):\n",
    "    np.random.seed(sds[i])\n",
    "    ax     = axB[i]\n",
    "    nc     = ncs[i]\n",
    "    ctps   = ctypes[i]\n",
    "    ctpsl  = np.hstack([ctps[j]*np.ones(nc[j],dtype='int') for j in range(len(nc))])\n",
    "    np.random.shuffle(ctpsl)\n",
    "    nctot  = ctpsl.shape[0]\n",
    "    nplttd = 0\n",
    "    for j in range(len(lims)-1):\n",
    "        ctrs = bbox_ctrs[lims[j]:lims[j+1]]\n",
    "        nrem = nctot - nplttd\n",
    "        if nrem <= 0:\n",
    "            break\n",
    "        nims   = min(len(ctrs), nrem)\n",
    "        imctrs = ctrs[np.random.choice(len(ctrs),nims,replace=False)]\n",
    "        for k in range(nims):\n",
    "            x0,y0 = imctrs[k] - gsz/2 + np.random.uniform(0,jsz,2)\n",
    "            ax.imshow(cell_pics[ctpsl[nplttd+k]], extent=[x0,x0+imsz,y0,y0+imsz])\n",
    "        nplttd += nims\n",
    "    ax.set_xlim(xmin, xmax)\n",
    "    ax.set_ylim(ymin, ymax)\n",
    "    ax.axis('off')"
   ]
  },
  {
   "cell_type": "markdown",
   "metadata": {},
   "source": [
    "##########################<br>\n",
    "#### B : legend ##########<br>\n",
    "##########################"
   ]
  },
  {
   "cell_type": "markdown",
   "metadata": {},
   "source": [
    "legends"
   ]
  },
  {
   "cell_type": "code",
   "execution_count": null,
   "metadata": {},
   "outputs": [],
   "source": [
    "labs = ['pluripotent','external stimuli','differentiated A', 'differentiated B']\n",
    "pics = [cell_pics[i] for i in [0,3,1,2]] #cell_pics[3::-1]"
   ]
  },
  {
   "cell_type": "code",
   "execution_count": null,
   "metadata": {},
   "outputs": [],
   "source": [
    "axBL.axis('off')\n",
    "axBL.set_xticks([])\n",
    "axBL.set_yticks([])\n",
    "npics = len(pics)"
   ]
  },
  {
   "cell_type": "code",
   "execution_count": null,
   "metadata": {},
   "outputs": [],
   "source": [
    "xmax = 21\n",
    "ymax = 5\n",
    "axBL.set_xlim(0,xmax)\n",
    "axBL.set_ylim(0,ymax)"
   ]
  },
  {
   "cell_type": "code",
   "execution_count": null,
   "metadata": {},
   "outputs": [],
   "source": [
    "bbox = axBL.get_window_extent().transformed(fig.dpi_scale_trans.inverted())\n",
    "aspect_ratio = bbox.width / bbox.height"
   ]
  },
  {
   "cell_type": "code",
   "execution_count": null,
   "metadata": {},
   "outputs": [],
   "source": [
    "xmarg1 = 0.25\n",
    "xmarg2 = 0.25\n",
    "imwd   = 1\n",
    "imspcx = 1\n",
    "xmarg3 = 0"
   ]
  },
  {
   "cell_type": "code",
   "execution_count": null,
   "metadata": {},
   "outputs": [],
   "source": [
    "ymarg1 = 0\n",
    "ymarg2 = 0.1\n",
    "ymarg3 = 0.75\n",
    "ymarg4 = 0.1\n",
    "imht   = imwd*1.7 #aspect_ratio #2.5 #imwd*aspect_ratio\n",
    "imspcy = (ymax - (ymarg1 + ymarg2 + ymarg3 + ymarg4 + imht*2)) / 1"
   ]
  },
  {
   "cell_type": "code",
   "execution_count": null,
   "metadata": {},
   "outputs": [],
   "source": [
    "rect = mpatches.FancyBboxPatch((xmarg1, ymarg1),\n",
    "                               xmax-xmarg3-xmarg1, ymax-ymarg3-ymarg1,\n",
    "                               facecolor='white',edgecolor='k',clip_on=False,linewidth=0.1,\n",
    "                               boxstyle=mpatches.BoxStyle(\"Round\",pad=0.5),zorder=0)"
   ]
  },
  {
   "cell_type": "code",
   "execution_count": null,
   "metadata": {},
   "outputs": [],
   "source": [
    "valigns=['center']*npics\n",
    "#x0 = xmarg1 + xmarg2\n",
    "#y0 = ymarg1 + ymarg2 + (imht + imspcy)*np.arange(npics)\n",
    "x0 = xmarg1+xmarg2+np.array([0,0,11,11])\n",
    "y0 = ymarg1 + ymarg2 + (imht + imspcy)*np.array([1,0,1,0])\n",
    "for i in range(npics):\n",
    "    axBL.imshow(pics[i],clip_on=True, extent = [x0[i],x0[i]+imwd,y0[i],y0[i]+imht],zorder=1,\n",
    "                aspect='auto',origin='upper')\n",
    "    axBL.text(s=labs[i],x=x0[i]+imsz+imspcx, y=y0[i]+imht/2,fontsize=6,verticalalignment=valigns[i],zorder=1)"
   ]
  },
  {
   "cell_type": "code",
   "execution_count": null,
   "metadata": {},
   "outputs": [],
   "source": [
    "axBL.add_artist(rect)"
   ]
  },
  {
   "cell_type": "code",
   "execution_count": null,
   "metadata": {},
   "outputs": [],
   "source": [
    "axBL.set_zorder(0)"
   ]
  },
  {
   "cell_type": "markdown",
   "metadata": {},
   "source": [
    "##########################<br>\n",
    "# B : top / bottom annotations #####<br>\n",
    "##########################"
   ]
  },
  {
   "cell_type": "code",
   "execution_count": null,
   "metadata": {},
   "outputs": [],
   "source": [
    "txts = ['saddle node\\nbifurcation', 'pitchfork\\nbifurcation']\n",
    "txts = ['one-to-one\\nfate change', 'one-to-many\\nfate change']\n",
    "pics = cell_pics[4:6]\n",
    "txtx = [1.1,1]\n",
    "txty = [1,0.3]\n",
    "valigns = ['top','bottom']\n",
    "lightx0 = [1.15,1.45]\n",
    "lighty0 = [-0.17,1.3]\n",
    "lightsz = 0.4\n",
    "axs = [axB1L, axB2L]"
   ]
  },
  {
   "cell_type": "code",
   "execution_count": null,
   "metadata": {},
   "outputs": [],
   "source": [
    "for i in range(len(axs)):\n",
    "    # text\n",
    "    ax = axs[i]\n",
    "    ax.text(s=txts[i],x=txtx[i],y=txty[i],fontsize=6,verticalalignment=valigns[i],horizontalalignment='center')\n",
    "\n",
    "    # lightning\n",
    "    #tr = transforms.Affine2D().rotate_deg(180)\n",
    "    ax.imshow(pics[i],clip_on=False, extent=[lightx0[i],lightx0[i]+lightsz,lighty0[i],lighty0[i]+lightsz])\n",
    "    ax.set_xlim(0,1)\n",
    "    ax.set_ylim(0,1)\n",
    "    ax.axis('off')"
   ]
  },
  {
   "cell_type": "markdown",
   "metadata": {},
   "source": [
    "####################################<br>\n",
    "###### middle arrows ###############<br>\n",
    "####################################<br>\n",
    "first arrows"
   ]
  },
  {
   "cell_type": "code",
   "execution_count": null,
   "metadata": {},
   "outputs": [],
   "source": [
    "xs  = [0,0,0,0]\n",
    "ys  = [0.5,0.5,0.5,0.5]\n",
    "dxs = [1, 1,1,1]\n",
    "dys = [0.3,-0.3,0,0]\n",
    "axs = [axB1ar1, axB2ar1, axB1ar2, axB2ar2]\n",
    "for i in range(len(axs)):\n",
    "    ax = axs[i]\n",
    "    ax.annotate(\"\", xy=(xs[i]++dxs[i], ys[i]+dys[i]), xytext=(xs[i], ys[i]),\n",
    "                arrowprops=dict(headwidth=3, headlength=2, width=0.5, fc='black', clip_on=False), clip_on=False)\n",
    "    ax.axis('off')\n",
    "    ax.set_zorder(1)"
   ]
  },
  {
   "cell_type": "markdown",
   "metadata": {},
   "source": [
    "#########################<br>\n",
    "### C: 3d bifurcations ##<br>\n",
    "#########################"
   ]
  },
  {
   "cell_type": "code",
   "execution_count": null,
   "metadata": {},
   "outputs": [],
   "source": [
    "fs = 6\n",
    "axs = [0,0,0]\n",
    "cols = ['goldenrod','brown','purple']"
   ]
  },
  {
   "cell_type": "code",
   "execution_count": null,
   "metadata": {},
   "outputs": [],
   "source": [
    "labs = ['pluripotent','lineage 1', 'lineage 2']\n",
    "ms = np.array(['o','s','v'])"
   ]
  },
  {
   "cell_type": "markdown",
   "metadata": {},
   "source": [
    "s.update(hspace=-0.89)"
   ]
  },
  {
   "cell_type": "code",
   "execution_count": null,
   "metadata": {},
   "outputs": [],
   "source": [
    "for ii in range(3):\n",
    "    ax = axC[ii]\n",
    "    ax.set_aspect('auto')\n",
    "    ax.set_box_aspect((2.5,1,1))\n",
    "    xtit_col = 'white' if ii > 0 else 'black'\n",
    "    gexp = gexps[ii]\n",
    "    taus = bif_vars[ii]\n",
    "    clust_label_bool = clust_label_bools[ii]\n",
    "    clust_label = clust_labels[ii]\n",
    "    ntau,ncells,ngenes = gexp.shape\n",
    "    for t in range(ntau):\n",
    "        for j in range(clust_poss[ii].shape[0]):\n",
    "            cidxs = np.where(clust_label[t]==j)[0]\n",
    "            ts = taus[t]*np.ones(cidxs.shape[0])\n",
    "            ax.scatter(ts, gexp[t,cidxs,0], gexp[t,cidxs,1],\n",
    "                       s=4, edgecolor=cols[j], facecolor='none',linewidth=0.5,clip_on=False)\n",
    "    ax.set_ylabel('gene i', fontsize = fs, labelpad=-19.5)\n",
    "    ax.set_zlabel('gene j', fontsize=fs,labelpad=-19.5)\n",
    "\n",
    "    #ax.view_init(5, 290)\n",
    "    ax.view_init(-30, 255)\n",
    "    ax.tick_params(axis='z',labelsize=fs)\n",
    "    ax.set_xticks(np.linspace(taus[0],taus[-1],10))\n",
    "    ax.set_xticklabels([])\n",
    "    ax.set_yticklabels([])\n",
    "    ax.set_zticklabels([])\n",
    "    mf.set_axs_fontsize(ax,fs)\n",
    "    ax.margins(0)\n",
    "    ax.autoscale_view('tight')\n",
    "    ax.dist=5.5\n",
    "    if ii == 0:\n",
    "        ax.set_xlabel('external stimuli',labelpad=-19,color=xtit_col)\n",
    "    ax.patch.set_alpha(0)"
   ]
  },
  {
   "cell_type": "markdown",
   "metadata": {},
   "source": [
    "##### captions #######"
   ]
  },
  {
   "cell_type": "code",
   "execution_count": null,
   "metadata": {},
   "outputs": [],
   "source": [
    "cap_fs = 11\n",
    "axAc.text(s='A',x=0,y=2,fontsize=cap_fs,verticalalignment='top',horizontalalignment='left')\n",
    "axAc.axis('off')"
   ]
  },
  {
   "cell_type": "code",
   "execution_count": null,
   "metadata": {},
   "outputs": [],
   "source": [
    "axBc.text(s='B',x=0,y=0,fontsize=cap_fs,verticalalignment='top',horizontalalignment='left')\n",
    "axBc.axis('off')"
   ]
  },
  {
   "cell_type": "code",
   "execution_count": null,
   "metadata": {},
   "outputs": [],
   "source": [
    "axCc.text(s='C',x=1.25,y=2,fontsize=cap_fs,verticalalignment='top',horizontalalignment='right')\n",
    "axCc.axis('off')"
   ]
  },
  {
   "cell_type": "code",
   "execution_count": null,
   "metadata": {},
   "outputs": [],
   "source": [
    "os.makedirs(figdir, exist_ok=True)\n",
    "plt.savefig('{0}/fig1_dev_dyn.pdf'.format(figdir), bbox_inches='tight')"
   ]
  }
 ],
 "metadata": {
  "kernelspec": {
   "display_name": "Python 3",
   "language": "python",
   "name": "python3"
  },
  "language_info": {
   "codemirror_mode": {
    "name": "ipython",
    "version": 3
   },
   "file_extension": ".py",
   "mimetype": "text/x-python",
   "name": "python",
   "nbconvert_exporter": "python",
   "pygments_lexer": "ipython3",
   "version": "3.7.4"
  }
 },
 "nbformat": 4,
 "nbformat_minor": 2
}
