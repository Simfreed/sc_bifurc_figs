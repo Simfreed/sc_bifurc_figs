{
 "cells": [
  {
   "cell_type": "code",
   "execution_count": 27,
   "metadata": {},
   "outputs": [],
   "source": [
    "import numpy as np\n",
    "import scipy as scipy\n",
    "from sklearn.decomposition import PCA\n",
    "import argparse\n",
    "import os\n",
    "import myfun as mf\n",
    "import pickle as pkl\n",
    "\n",
    "import matplotlib\n",
    "from matplotlib import gridspec, rc\n",
    "from matplotlib.ticker import LogLocator\n",
    "import matplotlib.pyplot as plt\n",
    "from mpl_toolkits.axes_grid1 import make_axes_locatable\n"
   ]
  },
  {
   "cell_type": "code",
   "execution_count": 4,
   "metadata": {},
   "outputs": [],
   "source": [
    "# params\n",
    "nsamp     = 100\n",
    "bin_sz    = 1000\n",
    "npc       = 1\n",
    "np.random.seed(None)"
   ]
  },
  {
   "cell_type": "code",
   "execution_count": 6,
   "metadata": {},
   "outputs": [
    {
     "name": "stdout",
     "output_type": "stream",
     "text": [
      "loading gene expr matrix\n",
      "done loading gene expr matrix\n"
     ]
    }
   ],
   "source": [
    "# # r / w\n",
    "# print('creating output directory at {0}'.format(args.outdir))\n",
    "# os.makedirs(args.outdir, exist_ok = True)\n",
    "headdir    = '/Users/simonfreedman/cqub/bifurc/paper_figs/' #'.' #'/Users/simonfreedman/cqub/bifurc/weinreb_2020/'\n",
    "figdir     = '{0}/figs'.format(headdir)\n",
    "datdir     = '{0}/neutrophil_data'.format(headdir)\n",
    "eigdir     = '{0}/eig'.format(datdir)\n",
    "\n",
    "gexp_fname = '{0}/gene_expr.npz'.format(datdir)\n",
    "print('loading gene expr matrix')\n",
    "gexp_sp    = scipy.sparse.load_npz(gexp_fname) # ~ 20s (filesize is 1.1GB)\n",
    "gexp_lil   = gexp_sp.tolil() # ~4min\n",
    "print('done loading gene expr matrix')"
   ]
  },
  {
   "cell_type": "code",
   "execution_count": 7,
   "metadata": {},
   "outputs": [],
   "source": [
    "with open('{0}/bin_cidxs.pkl'.format(eigdir),'rb') as f:\n",
    "    bin_cidxs = pkl.load(f)"
   ]
  },
  {
   "cell_type": "code",
   "execution_count": 12,
   "metadata": {},
   "outputs": [],
   "source": [
    "npst = len(bin_cidxs)"
   ]
  },
  {
   "cell_type": "code",
   "execution_count": 14,
   "metadata": {},
   "outputs": [],
   "source": [
    "ngene = gexp_lil.shape[1]"
   ]
  },
  {
   "cell_type": "code",
   "execution_count": 19,
   "metadata": {},
   "outputs": [],
   "source": [
    "ts = [109,87]\n",
    "\n",
    "cov_evec_shuf           = np.zeros((len(ts), nsamp,ngene))\n",
    "npc = 1\n",
    "for ti,t in enumerate(ts):\n",
    "    gexpt        = gexp_lil[bin_cidxs[t]].toarray()\n",
    "    ncell, ngene = gexpt.shape\n",
    "    \n",
    "    for i in range(nsamp):\n",
    "        pca                 = PCA(n_components=npc)\n",
    "        gexp_shuf = np.array([gexpt[:,g][np.random.choice(ncell, ncell, replace=True)] \n",
    "                              for g in range(ngene)]).T\n",
    "        pca.fit(gexp_shuf)\n",
    "        #cov_evals_shuf[t,i]    = pca.explained_variance_\n",
    "        #cov_eval_rat_shuf[t,i] = pca.explained_variance_ratio_\n",
    "        cov_evec_shuf[ti,i]     = pca.components_[0]"
   ]
  },
  {
   "cell_type": "code",
   "execution_count": 21,
   "metadata": {},
   "outputs": [],
   "source": [
    "pst_pc1      = np.load('{0}/dat_evec.npy'.format(eigdir))[:,0]"
   ]
  },
  {
   "cell_type": "code",
   "execution_count": 68,
   "metadata": {},
   "outputs": [
    {
     "name": "stderr",
     "output_type": "stream",
     "text": [
      "<ipython-input-68-b576ec7722cd>:1: RuntimeWarning: divide by zero encountered in log10\n",
      "  np.log10(np.abs(pst_pc1[ts[0]]))\n"
     ]
    },
    {
     "data": {
      "text/plain": [
       "array([-20.37878736,  -4.40982996,  -3.94449815, ...,  -3.86943474,\n",
       "        -3.84172611,  -5.42413808])"
      ]
     },
     "execution_count": 68,
     "metadata": {},
     "output_type": "execute_result"
    }
   ],
   "source": [
    "np.log10(np.abs(pst_pc1[ts[0]]))"
   ]
  },
  {
   "cell_type": "code",
   "execution_count": 73,
   "metadata": {},
   "outputs": [],
   "source": [
    "zero_genes = np.where(pst_pc1[ts[0]]==0)[0]"
   ]
  },
  {
   "cell_type": "code",
   "execution_count": 114,
   "metadata": {},
   "outputs": [],
   "source": [
    "gexpts        = np.array([gexp_lil[bin_cidxs[t]].toarray() for t in ts])"
   ]
  },
  {
   "cell_type": "code",
   "execution_count": 90,
   "metadata": {},
   "outputs": [],
   "source": [
    "nz_genes = np.where(np.sum(gexpt,axis=0)>0)[0]"
   ]
  },
  {
   "cell_type": "code",
   "execution_count": 81,
   "metadata": {},
   "outputs": [
    {
     "data": {
      "text/plain": [
       "PCA(n_components=1)"
      ]
     },
     "execution_count": 81,
     "metadata": {},
     "output_type": "execute_result"
    }
   ],
   "source": [
    "pca = PCA(n_components=1)\n",
    "pca.fit(gexpt)"
   ]
  },
  {
   "cell_type": "code",
   "execution_count": 115,
   "metadata": {},
   "outputs": [
    {
     "data": {
      "text/plain": [
       "(2, 1000, 25289)"
      ]
     },
     "execution_count": 115,
     "metadata": {},
     "output_type": "execute_result"
    }
   ],
   "source": [
    "gexpts.shape"
   ]
  },
  {
   "cell_type": "code",
   "execution_count": 118,
   "metadata": {},
   "outputs": [],
   "source": [
    "bmax = np.amax(gexpts)\n",
    "bmin = np.amin(gexpts[gexpts>0])\n",
    "bins = np.hstack([-bmin,np.linspace(bmin, bmax+bmin,50)])\n",
    "bins = np.hstack([-bmin,np.logspace(np.log10(bmin), np.log10(bmax+bmin),50)])\n",
    "\n",
    "ghists = np.array([np.histogram(gexpts[i].reshape(-1),bins=bins)[0] for i in range(len(ts))]) \n",
    "bmids = 0.5*(bins[1:]+bins[:-1])"
   ]
  },
  {
   "cell_type": "code",
   "execution_count": 119,
   "metadata": {},
   "outputs": [
    {
     "data": {
      "text/plain": [
       "(858,)"
      ]
     },
     "execution_count": 119,
     "metadata": {},
     "output_type": "execute_result"
    }
   ],
   "source": [
    "np.where(np.amax(gexpt,axis=0)>=10)[0].shape"
   ]
  },
  {
   "cell_type": "code",
   "execution_count": 124,
   "metadata": {},
   "outputs": [
    {
     "data": {
      "image/png": "[encoded data removed]",
      "text/plain": [
       "<Figure size 432x288 with 1 Axes>"
      ]
     },
     "metadata": {
      "needs_background": "light"
     },
     "output_type": "display_data"
    }
   ],
   "source": [
    "fig,axs=plt.subplots()\n",
    "axs.step(bmids,ghists[0], where='mid', color='red',label='saddle node gexp')\n",
    "axs.step(bmids,ghists[1], where='mid', color='blue', label='pitchfork gexp')\n",
    "\n",
    "axs.set_yscale('symlog')\n",
    "axs.set_xscale('symlog')\n",
    "axs.set_xlim(xmin=0)\n",
    "axs.set_ylim(ymin=0)\n",
    "\n",
    "axs.legend()\n",
    "axs.set_xlabel('normalized counts')\n",
    "axs.set_ylabel('frequency')\n",
    "\n",
    "mf.set_axs_fontsize(axs,20)"
   ]
  },
  {
   "cell_type": "code",
   "execution_count": 82,
   "metadata": {},
   "outputs": [
    {
     "data": {
      "text/plain": [
       "array([20065.99703633])"
      ]
     },
     "execution_count": 82,
     "metadata": {},
     "output_type": "execute_result"
    }
   ],
   "source": [
    "pca.explained_variance_"
   ]
  },
  {
   "cell_type": "code",
   "execution_count": 87,
   "metadata": {},
   "outputs": [
    {
     "data": {
      "text/plain": [
       "PCA(n_components=1)"
      ]
     },
     "execution_count": 87,
     "metadata": {},
     "output_type": "execute_result"
    }
   ],
   "source": [
    "pca      = PCA(n_components=1)\n",
    "nz_genes = np.where(np.sum(gexpt,axis=0)>0)[0]\n",
    "pca.fit(gexpt[:,nz_genes])"
   ]
  },
  {
   "cell_type": "code",
   "execution_count": 88,
   "metadata": {},
   "outputs": [
    {
     "data": {
      "text/plain": [
       "array([20065.99703633])"
      ]
     },
     "execution_count": 88,
     "metadata": {},
     "output_type": "execute_result"
    }
   ],
   "source": [
    "pca.explained_variance_"
   ]
  },
  {
   "cell_type": "code",
   "execution_count": 80,
   "metadata": {},
   "outputs": [
    {
     "data": {
      "text/plain": [
       "0.0"
      ]
     },
     "execution_count": 80,
     "metadata": {},
     "output_type": "execute_result"
    }
   ],
   "source": [
    "np.amin(gexpt[:,zero_genes])"
   ]
  },
  {
   "cell_type": "code",
   "execution_count": 69,
   "metadata": {},
   "outputs": [
    {
     "name": "stderr",
     "output_type": "stream",
     "text": [
      "<ipython-input-69-4cf8ab74e149>:2: RuntimeWarning: divide by zero encountered in log10\n",
      "  axs.hist(np.log10(np.abs(pst_pc1[ts[0]])))\n"
     ]
    },
    {
     "ename": "ValueError",
     "evalue": "supplied range of [-inf, -0.20621142293495268] is not finite",
     "output_type": "error",
     "traceback": [
      "\u001b[0;31m---------------------------------------------------------------------------\u001b[0m",
      "\u001b[0;31mValueError\u001b[0m                                Traceback (most recent call last)",
      "\u001b[0;32m<ipython-input-69-4cf8ab74e149>\u001b[0m in \u001b[0;36m<module>\u001b[0;34m\u001b[0m\n\u001b[1;32m      1\u001b[0m \u001b[0mfig\u001b[0m\u001b[0;34m,\u001b[0m\u001b[0maxs\u001b[0m\u001b[0;34m=\u001b[0m\u001b[0mplt\u001b[0m\u001b[0;34m.\u001b[0m\u001b[0msubplots\u001b[0m\u001b[0;34m(\u001b[0m\u001b[0;34m)\u001b[0m\u001b[0;34m\u001b[0m\u001b[0;34m\u001b[0m\u001b[0m\n\u001b[0;32m----> 2\u001b[0;31m \u001b[0maxs\u001b[0m\u001b[0;34m.\u001b[0m\u001b[0mhist\u001b[0m\u001b[0;34m(\u001b[0m\u001b[0mnp\u001b[0m\u001b[0;34m.\u001b[0m\u001b[0mlog10\u001b[0m\u001b[0;34m(\u001b[0m\u001b[0mnp\u001b[0m\u001b[0;34m.\u001b[0m\u001b[0mabs\u001b[0m\u001b[0;34m(\u001b[0m\u001b[0mpst_pc1\u001b[0m\u001b[0;34m[\u001b[0m\u001b[0mts\u001b[0m\u001b[0;34m[\u001b[0m\u001b[0;36m0\u001b[0m\u001b[0;34m]\u001b[0m\u001b[0;34m]\u001b[0m\u001b[0;34m)\u001b[0m\u001b[0;34m)\u001b[0m\u001b[0;34m)\u001b[0m\u001b[0;34m\u001b[0m\u001b[0;34m\u001b[0m\u001b[0m\n\u001b[0m\u001b[1;32m      3\u001b[0m \u001b[0;31m#axs.set_yscale('log')\u001b[0m\u001b[0;34m\u001b[0m\u001b[0;34m\u001b[0m\u001b[0;34m\u001b[0m\u001b[0m\n\u001b[1;32m      4\u001b[0m \u001b[0;31m#axs.set_xscale('symlog',linthresh=1e-6)\u001b[0m\u001b[0;34m\u001b[0m\u001b[0;34m\u001b[0m\u001b[0;34m\u001b[0m\u001b[0m\n",
      "\u001b[0;32m~/opt/anaconda3/envs/bifurc/lib/python3.8/site-packages/matplotlib/__init__.py\u001b[0m in \u001b[0;36minner\u001b[0;34m(ax, data, *args, **kwargs)\u001b[0m\n\u001b[1;32m   1445\u001b[0m     \u001b[0;32mdef\u001b[0m \u001b[0minner\u001b[0m\u001b[0;34m(\u001b[0m\u001b[0max\u001b[0m\u001b[0;34m,\u001b[0m \u001b[0;34m*\u001b[0m\u001b[0margs\u001b[0m\u001b[0;34m,\u001b[0m \u001b[0mdata\u001b[0m\u001b[0;34m=\u001b[0m\u001b[0;32mNone\u001b[0m\u001b[0;34m,\u001b[0m \u001b[0;34m**\u001b[0m\u001b[0mkwargs\u001b[0m\u001b[0;34m)\u001b[0m\u001b[0;34m:\u001b[0m\u001b[0;34m\u001b[0m\u001b[0;34m\u001b[0m\u001b[0m\n\u001b[1;32m   1446\u001b[0m         \u001b[0;32mif\u001b[0m \u001b[0mdata\u001b[0m \u001b[0;32mis\u001b[0m \u001b[0;32mNone\u001b[0m\u001b[0;34m:\u001b[0m\u001b[0;34m\u001b[0m\u001b[0;34m\u001b[0m\u001b[0m\n\u001b[0;32m-> 1447\u001b[0;31m             \u001b[0;32mreturn\u001b[0m \u001b[0mfunc\u001b[0m\u001b[0;34m(\u001b[0m\u001b[0max\u001b[0m\u001b[0;34m,\u001b[0m \u001b[0;34m*\u001b[0m\u001b[0mmap\u001b[0m\u001b[0;34m(\u001b[0m\u001b[0msanitize_sequence\u001b[0m\u001b[0;34m,\u001b[0m \u001b[0margs\u001b[0m\u001b[0;34m)\u001b[0m\u001b[0;34m,\u001b[0m \u001b[0;34m**\u001b[0m\u001b[0mkwargs\u001b[0m\u001b[0;34m)\u001b[0m\u001b[0;34m\u001b[0m\u001b[0;34m\u001b[0m\u001b[0m\n\u001b[0m\u001b[1;32m   1448\u001b[0m \u001b[0;34m\u001b[0m\u001b[0m\n\u001b[1;32m   1449\u001b[0m         \u001b[0mbound\u001b[0m \u001b[0;34m=\u001b[0m \u001b[0mnew_sig\u001b[0m\u001b[0;34m.\u001b[0m\u001b[0mbind\u001b[0m\u001b[0;34m(\u001b[0m\u001b[0max\u001b[0m\u001b[0;34m,\u001b[0m \u001b[0;34m*\u001b[0m\u001b[0margs\u001b[0m\u001b[0;34m,\u001b[0m \u001b[0;34m**\u001b[0m\u001b[0mkwargs\u001b[0m\u001b[0;34m)\u001b[0m\u001b[0;34m\u001b[0m\u001b[0;34m\u001b[0m\u001b[0m\n",
      "\u001b[0;32m~/opt/anaconda3/envs/bifurc/lib/python3.8/site-packages/matplotlib/axes/_axes.py\u001b[0m in \u001b[0;36mhist\u001b[0;34m(self, x, bins, range, density, weights, cumulative, bottom, histtype, align, orientation, rwidth, log, color, label, stacked, **kwargs)\u001b[0m\n\u001b[1;32m   6649\u001b[0m             \u001b[0;31m# this will automatically overwrite bins,\u001b[0m\u001b[0;34m\u001b[0m\u001b[0;34m\u001b[0m\u001b[0;34m\u001b[0m\u001b[0m\n\u001b[1;32m   6650\u001b[0m             \u001b[0;31m# so that each histogram uses the same bins\u001b[0m\u001b[0;34m\u001b[0m\u001b[0;34m\u001b[0m\u001b[0;34m\u001b[0m\u001b[0m\n\u001b[0;32m-> 6651\u001b[0;31m             \u001b[0mm\u001b[0m\u001b[0;34m,\u001b[0m \u001b[0mbins\u001b[0m \u001b[0;34m=\u001b[0m \u001b[0mnp\u001b[0m\u001b[0;34m.\u001b[0m\u001b[0mhistogram\u001b[0m\u001b[0;34m(\u001b[0m\u001b[0mx\u001b[0m\u001b[0;34m[\u001b[0m\u001b[0mi\u001b[0m\u001b[0;34m]\u001b[0m\u001b[0;34m,\u001b[0m \u001b[0mbins\u001b[0m\u001b[0;34m,\u001b[0m \u001b[0mweights\u001b[0m\u001b[0;34m=\u001b[0m\u001b[0mw\u001b[0m\u001b[0;34m[\u001b[0m\u001b[0mi\u001b[0m\u001b[0;34m]\u001b[0m\u001b[0;34m,\u001b[0m \u001b[0;34m**\u001b[0m\u001b[0mhist_kwargs\u001b[0m\u001b[0;34m)\u001b[0m\u001b[0;34m\u001b[0m\u001b[0;34m\u001b[0m\u001b[0m\n\u001b[0m\u001b[1;32m   6652\u001b[0m             \u001b[0mtops\u001b[0m\u001b[0;34m.\u001b[0m\u001b[0mappend\u001b[0m\u001b[0;34m(\u001b[0m\u001b[0mm\u001b[0m\u001b[0;34m)\u001b[0m\u001b[0;34m\u001b[0m\u001b[0;34m\u001b[0m\u001b[0m\n\u001b[1;32m   6653\u001b[0m         \u001b[0mtops\u001b[0m \u001b[0;34m=\u001b[0m \u001b[0mnp\u001b[0m\u001b[0;34m.\u001b[0m\u001b[0marray\u001b[0m\u001b[0;34m(\u001b[0m\u001b[0mtops\u001b[0m\u001b[0;34m,\u001b[0m \u001b[0mfloat\u001b[0m\u001b[0;34m)\u001b[0m  \u001b[0;31m# causes problems later if it's an int\u001b[0m\u001b[0;34m\u001b[0m\u001b[0;34m\u001b[0m\u001b[0m\n",
      "\u001b[0;32m<__array_function__ internals>\u001b[0m in \u001b[0;36mhistogram\u001b[0;34m(*args, **kwargs)\u001b[0m\n",
      "\u001b[0;32m~/opt/anaconda3/envs/bifurc/lib/python3.8/site-packages/numpy/lib/histograms.py\u001b[0m in \u001b[0;36mhistogram\u001b[0;34m(a, bins, range, normed, weights, density)\u001b[0m\n\u001b[1;32m    790\u001b[0m     \u001b[0ma\u001b[0m\u001b[0;34m,\u001b[0m \u001b[0mweights\u001b[0m \u001b[0;34m=\u001b[0m \u001b[0m_ravel_and_check_weights\u001b[0m\u001b[0;34m(\u001b[0m\u001b[0ma\u001b[0m\u001b[0;34m,\u001b[0m \u001b[0mweights\u001b[0m\u001b[0;34m)\u001b[0m\u001b[0;34m\u001b[0m\u001b[0;34m\u001b[0m\u001b[0m\n\u001b[1;32m    791\u001b[0m \u001b[0;34m\u001b[0m\u001b[0m\n\u001b[0;32m--> 792\u001b[0;31m     \u001b[0mbin_edges\u001b[0m\u001b[0;34m,\u001b[0m \u001b[0muniform_bins\u001b[0m \u001b[0;34m=\u001b[0m \u001b[0m_get_bin_edges\u001b[0m\u001b[0;34m(\u001b[0m\u001b[0ma\u001b[0m\u001b[0;34m,\u001b[0m \u001b[0mbins\u001b[0m\u001b[0;34m,\u001b[0m \u001b[0mrange\u001b[0m\u001b[0;34m,\u001b[0m \u001b[0mweights\u001b[0m\u001b[0;34m)\u001b[0m\u001b[0;34m\u001b[0m\u001b[0;34m\u001b[0m\u001b[0m\n\u001b[0m\u001b[1;32m    793\u001b[0m \u001b[0;34m\u001b[0m\u001b[0m\n\u001b[1;32m    794\u001b[0m     \u001b[0;31m# Histogram is an integer or a float array depending on the weights.\u001b[0m\u001b[0;34m\u001b[0m\u001b[0;34m\u001b[0m\u001b[0;34m\u001b[0m\u001b[0m\n",
      "\u001b[0;32m~/opt/anaconda3/envs/bifurc/lib/python3.8/site-packages/numpy/lib/histograms.py\u001b[0m in \u001b[0;36m_get_bin_edges\u001b[0;34m(a, bins, range, weights)\u001b[0m\n\u001b[1;32m    424\u001b[0m             \u001b[0;32mraise\u001b[0m \u001b[0mValueError\u001b[0m\u001b[0;34m(\u001b[0m\u001b[0;34m'`bins` must be positive, when an integer'\u001b[0m\u001b[0;34m)\u001b[0m\u001b[0;34m\u001b[0m\u001b[0;34m\u001b[0m\u001b[0m\n\u001b[1;32m    425\u001b[0m \u001b[0;34m\u001b[0m\u001b[0m\n\u001b[0;32m--> 426\u001b[0;31m         \u001b[0mfirst_edge\u001b[0m\u001b[0;34m,\u001b[0m \u001b[0mlast_edge\u001b[0m \u001b[0;34m=\u001b[0m \u001b[0m_get_outer_edges\u001b[0m\u001b[0;34m(\u001b[0m\u001b[0ma\u001b[0m\u001b[0;34m,\u001b[0m \u001b[0mrange\u001b[0m\u001b[0;34m)\u001b[0m\u001b[0;34m\u001b[0m\u001b[0;34m\u001b[0m\u001b[0m\n\u001b[0m\u001b[1;32m    427\u001b[0m \u001b[0;34m\u001b[0m\u001b[0m\n\u001b[1;32m    428\u001b[0m     \u001b[0;32melif\u001b[0m \u001b[0mnp\u001b[0m\u001b[0;34m.\u001b[0m\u001b[0mndim\u001b[0m\u001b[0;34m(\u001b[0m\u001b[0mbins\u001b[0m\u001b[0;34m)\u001b[0m \u001b[0;34m==\u001b[0m \u001b[0;36m1\u001b[0m\u001b[0;34m:\u001b[0m\u001b[0;34m\u001b[0m\u001b[0;34m\u001b[0m\u001b[0m\n",
      "\u001b[0;32m~/opt/anaconda3/envs/bifurc/lib/python3.8/site-packages/numpy/lib/histograms.py\u001b[0m in \u001b[0;36m_get_outer_edges\u001b[0;34m(a, range)\u001b[0m\n\u001b[1;32m    313\u001b[0m                 'max must be larger than min in range parameter.')\n\u001b[1;32m    314\u001b[0m         \u001b[0;32mif\u001b[0m \u001b[0;32mnot\u001b[0m \u001b[0;34m(\u001b[0m\u001b[0mnp\u001b[0m\u001b[0;34m.\u001b[0m\u001b[0misfinite\u001b[0m\u001b[0;34m(\u001b[0m\u001b[0mfirst_edge\u001b[0m\u001b[0;34m)\u001b[0m \u001b[0;32mand\u001b[0m \u001b[0mnp\u001b[0m\u001b[0;34m.\u001b[0m\u001b[0misfinite\u001b[0m\u001b[0;34m(\u001b[0m\u001b[0mlast_edge\u001b[0m\u001b[0;34m)\u001b[0m\u001b[0;34m)\u001b[0m\u001b[0;34m:\u001b[0m\u001b[0;34m\u001b[0m\u001b[0;34m\u001b[0m\u001b[0m\n\u001b[0;32m--> 315\u001b[0;31m             raise ValueError(\n\u001b[0m\u001b[1;32m    316\u001b[0m                 \"supplied range of [{}, {}] is not finite\".format(first_edge, last_edge))\n\u001b[1;32m    317\u001b[0m     \u001b[0;32melif\u001b[0m \u001b[0ma\u001b[0m\u001b[0;34m.\u001b[0m\u001b[0msize\u001b[0m \u001b[0;34m==\u001b[0m \u001b[0;36m0\u001b[0m\u001b[0;34m:\u001b[0m\u001b[0;34m\u001b[0m\u001b[0;34m\u001b[0m\u001b[0m\n",
      "\u001b[0;31mValueError\u001b[0m: supplied range of [-inf, -0.20621142293495268] is not finite"
     ]
    },
    {
     "data": {
      "image/png": "[encoded data removed]",
      "text/plain": [
       "<Figure size 432x288 with 1 Axes>"
      ]
     },
     "metadata": {
      "needs_background": "light"
     },
     "output_type": "display_data"
    }
   ],
   "source": [
    "fig,axs=plt.subplots()\n",
    "axs.hist(np.log10(np.abs(pst_pc1[ts[0]])))\n",
    "#axs.set_yscale('log')\n",
    "#axs.set_xscale('symlog',linthresh=1e-6)"
   ]
  },
  {
   "cell_type": "code",
   "execution_count": 20,
   "metadata": {},
   "outputs": [
    {
     "data": {
      "text/plain": [
       "(2, 100, 25289)"
      ]
     },
     "execution_count": 20,
     "metadata": {},
     "output_type": "execute_result"
    }
   ],
   "source": [
    "cov_evec_shuf.shape"
   ]
  },
  {
   "cell_type": "code",
   "execution_count": 32,
   "metadata": {},
   "outputs": [],
   "source": [
    "bift_pc1_cc = pst_pc1[ts[0]].dot(pst_pc1[ts[1]])"
   ]
  },
  {
   "cell_type": "code",
   "execution_count": 24,
   "metadata": {},
   "outputs": [
    {
     "data": {
      "text/plain": [
       "array([[ 1.    , -0.6147],\n",
       "       [-0.6147,  1.    ]])"
      ]
     },
     "execution_count": 24,
     "metadata": {},
     "output_type": "execute_result"
    }
   ],
   "source": [
    "np.corrcoef(pst_pc1[ts[0]],pst_pc1[ts[1]])"
   ]
  },
  {
   "cell_type": "code",
   "execution_count": 25,
   "metadata": {},
   "outputs": [],
   "source": [
    "shuf_evec_corrcoef = cov_evec_shuf[0].dot(cov_evec_shuf[1].T)"
   ]
  },
  {
   "cell_type": "code",
   "execution_count": 126,
   "metadata": {},
   "outputs": [
    {
     "data": {
      "text/plain": [
       "((2, 100, 25289),)"
      ]
     },
     "execution_count": 126,
     "metadata": {},
     "output_type": "execute_result"
    }
   ],
   "source": [
    "cov_evec_shuf.shape, "
   ]
  },
  {
   "cell_type": "code",
   "execution_count": 130,
   "metadata": {},
   "outputs": [
    {
     "data": {
      "text/plain": [
       "False"
      ]
     },
     "execution_count": 130,
     "metadata": {},
     "output_type": "execute_result"
    }
   ],
   "source": [
    "np.array_equal(cov_evec_shuf[1,0], cov_evec_shuf[1,1])"
   ]
  },
  {
   "cell_type": "code",
   "execution_count": 129,
   "metadata": {},
   "outputs": [
    {
     "data": {
      "text/plain": [
       "[0.8891517133015058,\n",
       " 0.5855742054089806,\n",
       " 0.9521379595465324,\n",
       " 0.6260334602576476,\n",
       " 0.9191155138699082,\n",
       " 0.7750961205686728,\n",
       " 0.9345187466461683,\n",
       " -0.1050960136954972,\n",
       " 0.9458316393790154,\n",
       " 0.8600709571435267,\n",
       " 0.01061878321013153,\n",
       " 0.0407652354126528,\n",
       " 0.4685453169789756,\n",
       " 0.9911598531689106,\n",
       " -0.5114934361727974,\n",
       " -0.4527604821086578,\n",
       " 0.09214697038950097,\n",
       " 0.8908760815319109,\n",
       " 0.37821762783110113,\n",
       " 0.8611626795729729,\n",
       " 0.921930492409402,\n",
       " 0.9017548376422714,\n",
       " 0.7436401756863413,\n",
       " -0.0634621493299845,\n",
       " 0.5487169479366715,\n",
       " -0.31585101873340427,\n",
       " -0.1640693870532226,\n",
       " 0.9819565725920926,\n",
       " -0.20758023947537715,\n",
       " -0.13317797019917837,\n",
       " 0.23852688086773013,\n",
       " -0.6558800449695709,\n",
       " -0.02833268637964836,\n",
       " 0.797925932717553,\n",
       " 0.06253470776547808,\n",
       " 0.7988974386350506,\n",
       " 0.9470400205572008,\n",
       " 0.6474617585164162,\n",
       " -0.6650335276732254,\n",
       " 0.8569768730647721,\n",
       " 0.9043490118746711,\n",
       " 0.8213170877548198,\n",
       " -0.28195299099151494,\n",
       " 0.6919340684323763,\n",
       " 0.990743794210525,\n",
       " -0.7872325716520283,\n",
       " 0.120333972271525,\n",
       " -0.263894392015872,\n",
       " 0.28867283086224554,\n",
       " 0.3954181950596195,\n",
       " -0.4016185825074121,\n",
       " 0.6947885337235195,\n",
       " -0.08102329477791423,\n",
       " 0.6866302976131934,\n",
       " 0.9511841165171738,\n",
       " 0.552641838792027,\n",
       " 0.8421300766127225,\n",
       " 0.8171872989850756,\n",
       " 0.9649247361128562,\n",
       " 0.98391090213669,\n",
       " -0.19882009711347348,\n",
       " 0.7487066644761752,\n",
       " 0.4868671567576978,\n",
       " -0.12498557295693455,\n",
       " 0.7307884744996636,\n",
       " 0.7286644075573934,\n",
       " 0.9594688427647039,\n",
       " 0.12999156116144192,\n",
       " -0.15706179822662242,\n",
       " 0.7482759687477651,\n",
       " 0.27360689760448087,\n",
       " 0.552014708404824,\n",
       " 0.9505903021677186,\n",
       " 0.8095051228012189,\n",
       " 0.5465449191435467,\n",
       " -0.556694232695263,\n",
       " -0.213922715586405,\n",
       " 0.7054602070600241,\n",
       " 0.8957298632126551,\n",
       " 0.5382941418476915,\n",
       " 0.9842435930847585,\n",
       " 0.645212488560782,\n",
       " -0.1351634785152191,\n",
       " 0.9847921808848629,\n",
       " 0.4180778516350929,\n",
       " -0.34172510586402843,\n",
       " -0.07478745786365402,\n",
       " -0.13701108159777542,\n",
       " 0.8736331569728992,\n",
       " -0.10852368260860792,\n",
       " -0.4608177806329307,\n",
       " 0.6956108403034896,\n",
       " 0.8162890042977514,\n",
       " 0.9866416544288007,\n",
       " -0.06222412114611953,\n",
       " 0.6181677545803967,\n",
       " 0.9771645994781335,\n",
       " 0.3153968299821788,\n",
       " 0.6290583508165569,\n",
       " 0.8516220054261356]"
      ]
     },
     "execution_count": 129,
     "metadata": {},
     "output_type": "execute_result"
    }
   ],
   "source": [
    "[cov_evec_shuf[0,k].dot(cov_evec_shuf[1,0]) for k in range(nsamp)]"
   ]
  },
  {
   "cell_type": "code",
   "execution_count": 36,
   "metadata": {},
   "outputs": [
    {
     "data": {
      "text/plain": [
       "(100, 100)"
      ]
     },
     "execution_count": 36,
     "metadata": {},
     "output_type": "execute_result"
    }
   ],
   "source": [
    "shuf_evec_corrcoef.shape"
   ]
  },
  {
   "cell_type": "code",
   "execution_count": 44,
   "metadata": {},
   "outputs": [
    {
     "data": {
      "text/plain": [
       "(100, 25289)"
      ]
     },
     "execution_count": 44,
     "metadata": {},
     "output_type": "execute_result"
    }
   ],
   "source": [
    "cov_evec_shuf[0].shape"
   ]
  },
  {
   "cell_type": "code",
   "execution_count": 45,
   "metadata": {},
   "outputs": [
    {
     "data": {
      "text/plain": [
       "(100, 25289)"
      ]
     },
     "execution_count": 45,
     "metadata": {},
     "output_type": "execute_result"
    }
   ],
   "source": [
    "cov_evec_shuf[1].shape"
   ]
  },
  {
   "cell_type": "code",
   "execution_count": 47,
   "metadata": {},
   "outputs": [
    {
     "data": {
      "text/plain": [
       "array([[0.88915171, 0.89186757, 0.89223535, ..., 0.89311254, 0.8871507 ,\n",
       "        0.87501743],\n",
       "       [0.58557421, 0.58039111, 0.57846895, ..., 0.5727625 , 0.58626282,\n",
       "        0.57362315],\n",
       "       [0.95213796, 0.94642619, 0.95246184, ..., 0.94596606, 0.95440375,\n",
       "        0.9348251 ],\n",
       "       ...,\n",
       "       [0.31539683, 0.31218722, 0.30720077, ..., 0.30134072, 0.31633148,\n",
       "        0.30795854],\n",
       "       [0.62905835, 0.63024066, 0.63501956, ..., 0.63814627, 0.62625591,\n",
       "        0.61721064],\n",
       "       [0.85162201, 0.85073732, 0.85706945, ..., 0.85675351, 0.85123148,\n",
       "        0.83808818]])"
      ]
     },
     "execution_count": 47,
     "metadata": {},
     "output_type": "execute_result"
    }
   ],
   "source": [
    "shuf_evec_corrcoef"
   ]
  },
  {
   "cell_type": "code",
   "execution_count": 55,
   "metadata": {},
   "outputs": [
    {
     "data": {
      "image/png": "[encoded data removed]",
      "text/plain": [
       "<Figure size 432x288 with 1 Axes>"
      ]
     },
     "metadata": {
      "needs_background": "light"
     },
     "output_type": "display_data"
    }
   ],
   "source": [
    "fig,axs=plt.subplots()\n",
    "axs.hist(cov_evec_shuf[0,2],bins=30)\n",
    "axs.set_yscale('log')"
   ]
  },
  {
   "cell_type": "code",
   "execution_count": 56,
   "metadata": {},
   "outputs": [
    {
     "data": {
      "text/plain": [
       "array([[[ 4.66338687e-17,  8.47489364e-05, -2.63761489e-04, ...,\n",
       "          2.06951749e-04,  4.97190768e-04,  5.24364287e-06],\n",
       "        [ 2.29279604e-18,  4.58999911e-05, -1.02019811e-04, ...,\n",
       "         -2.54753710e-04,  9.98799838e-04, -1.83867269e-05],\n",
       "        [-3.13597825e-17, -1.47132970e-04,  1.29936474e-04, ...,\n",
       "         -4.42967057e-04, -4.82848703e-04,  1.53663103e-05],\n",
       "        ...,\n",
       "        [-1.43172833e-16, -2.43868601e-04, -2.63829866e-05, ...,\n",
       "         -1.17852245e-04, -3.04020623e-04, -1.66447578e-05],\n",
       "        [ 1.72949066e-18,  5.51126485e-05,  2.77098611e-05, ...,\n",
       "         -1.54084521e-04, -7.42401319e-04,  1.06609050e-05],\n",
       "        [-5.79550999e-17, -1.39853881e-04, -1.73969667e-04, ...,\n",
       "         -7.58899490e-05, -5.36703379e-05,  0.00000000e+00]],\n",
       "\n",
       "       [[-2.57160179e-19, -8.58512349e-04, -9.84260182e-05, ...,\n",
       "         -3.82897813e-04, -4.39069621e-03, -8.55476134e-05],\n",
       "        [ 1.13294326e-18,  5.47371570e-05, -2.01180919e-05, ...,\n",
       "          5.78995559e-04, -2.02930438e-03, -2.93689264e-04],\n",
       "        [-5.34894459e-19, -7.86338011e-05,  3.10363370e-04, ...,\n",
       "          1.13641504e-03, -3.17151525e-03,  8.82831400e-05],\n",
       "        ...,\n",
       "        [ 2.57395056e-16,  1.91478252e-03, -4.34739197e-04, ...,\n",
       "         -9.09821544e-04,  5.19078413e-04, -2.02971432e-04],\n",
       "        [-9.96190466e-19,  6.80404531e-04,  2.68979462e-04, ...,\n",
       "         -4.97104971e-06,  2.62122481e-03,  6.38639815e-05],\n",
       "        [ 4.50797303e-19,  1.76492554e-04,  5.66272612e-04, ...,\n",
       "         -9.08659721e-04,  8.98893262e-04,  1.91298393e-04]]])"
      ]
     },
     "execution_count": 56,
     "metadata": {},
     "output_type": "execute_result"
    }
   ],
   "source": [
    "cov_evec_shuf"
   ]
  },
  {
   "cell_type": "code",
   "execution_count": 54,
   "metadata": {},
   "outputs": [
    {
     "data": {
      "text/plain": [
       "0.956151617847642"
      ]
     },
     "execution_count": 54,
     "metadata": {},
     "output_type": "execute_result"
    }
   ],
   "source": [
    "np.abs(np.amax(cov_evec_shuf[0,2]))"
   ]
  },
  {
   "cell_type": "code",
   "execution_count": 48,
   "metadata": {},
   "outputs": [
    {
     "data": {
      "text/plain": [
       "0.5460507724808198"
      ]
     },
     "execution_count": 48,
     "metadata": {},
     "output_type": "execute_result"
    }
   ],
   "source": [
    "cov_evec_shuf[0,55].dot(cov_evec_shuf[1,32])"
   ]
  },
  {
   "cell_type": "code",
   "execution_count": 50,
   "metadata": {},
   "outputs": [
    {
     "data": {
      "text/plain": [
       "-0.004739558622709513"
      ]
     },
     "execution_count": 50,
     "metadata": {},
     "output_type": "execute_result"
    }
   ],
   "source": [
    "shuf_evec_corrcoef[32,55]"
   ]
  },
  {
   "cell_type": "code",
   "execution_count": 42,
   "metadata": {},
   "outputs": [],
   "source": [
    "shuf_evec_corrcoef_flat = shuf_evec_corrcoef.reshape(-1) # np.hstack([shuf_evec_corrcoef[i,i+1:] for i in range(nsamp)])"
   ]
  },
  {
   "cell_type": "code",
   "execution_count": 137,
   "metadata": {},
   "outputs": [
    {
     "data": {
      "image/png": "[encoded data removed]",
      "text/plain": [
       "<Figure size 360x360 with 1 Axes>"
      ]
     },
     "metadata": {
      "needs_background": "light"
     },
     "output_type": "display_data"
    }
   ],
   "source": [
    "fig,axs=plt.subplots(figsize=(5,5))\n",
    "axs.imshow(shuf_evec_corrcoef, aspect=1)\n",
    "axs.set_xlabel('pitchfork sample')\n",
    "axs.set_ylabel('saddle sample')\n",
    "axs.set_title(r'$\\hat{s}_{sn}\\cdot \\hat{s}_{pf}$')\n",
    "\n",
    "mf.set_axs_fontsize(axs,20)"
   ]
  },
  {
   "cell_type": "code",
   "execution_count": 38,
   "metadata": {},
   "outputs": [
    {
     "data": {
      "text/plain": [
       "(4950,)"
      ]
     },
     "execution_count": 38,
     "metadata": {},
     "output_type": "execute_result"
    }
   ],
   "source": [
    "shuf_evec_corrcoef_flat.shape"
   ]
  },
  {
   "cell_type": "code",
   "execution_count": 40,
   "metadata": {},
   "outputs": [
    {
     "data": {
      "text/plain": [
       "(array([], dtype=int64), array([], dtype=int64))"
      ]
     },
     "execution_count": 40,
     "metadata": {},
     "output_type": "execute_result"
    }
   ],
   "source": [
    "np.where(shuf_evec_corrcoef>0.9)"
   ]
  },
  {
   "cell_type": "code",
   "execution_count": 141,
   "metadata": {},
   "outputs": [
    {
     "data": {
      "image/png": "[encoded data removed]",
      "text/plain": [
       "<Figure size 432x288 with 1 Axes>"
      ]
     },
     "metadata": {
      "needs_background": "light"
     },
     "output_type": "display_data"
    }
   ],
   "source": [
    "fig,axs=plt.subplots()\n",
    "axs.hist(shuf_evec_corrcoef_flat,bins=40)\n",
    "\n",
    "axs.axvline(bift_pc1_cc,color='black', linestyle='--',label='data')\n",
    "axs.legend()\n",
    "axs.set_xlabel('$\\hat{s}_{sn}\\cdot \\hat{s}_{pf}$')\n",
    "axs.set_ylabel('frequency')\n",
    "\n",
    "mf.set_axs_fontsize(axs, 14, True)"
   ]
  },
  {
   "cell_type": "code",
   "execution_count": 18,
   "metadata": {},
   "outputs": [
    {
     "data": {
      "text/plain": [
       "100"
      ]
     },
     "execution_count": 18,
     "metadata": {},
     "output_type": "execute_result"
    }
   ],
   "source": [
    "nsamp"
   ]
  },
  {
   "cell_type": "code",
   "execution_count": null,
   "metadata": {},
   "outputs": [],
   "source": [
    "# # load pseudotime cell indexes\n",
    "# print('binning by pseudotime')\n",
    "# tau         = np.genfromtxt(args.pst_fname, skip_header=True)\n",
    "# if args.tau_bins:\n",
    "#     pst_bins = mf.get_time_bin_idxs(tau[:,1], bin_sz, args.ov_frac) # returns indexes of tau\n",
    "# else:\n",
    "#     pst_bins = mf.get_bin_idxs(tau[:,1], bin_sz, args.ov_frac) #returns elements of \"srt\" which are indexes of tau\n",
    "\n",
    "# bin_cidxs   = [np.array(tau[grp,0], dtype = 'int')  for grp in pst_bins]\n",
    "# bin_time    = np.array([mf.meanor0(tau[grp,1])         for grp in pst_bins])\n",
    "# npst        = len(bin_cidxs)\n",
    "\n",
    "# print('saving bins')\n",
    "# with open('{0}/bin_cidxs.pkl'.format(args.outdir), 'wb') as output_file:\n",
    "#     pkl.dump(bin_cidxs, output_file)\n",
    "\n",
    "# np.save('{0}/bin_psts.npy'.format(args.outdir), bin_time)\n",
    "\n",
    "# run sampling\n",
    "print('sampling')\n",
    "\n",
    "cov_evals           = np.zeros([npst, npc])\n",
    "cov_eval_rat        = np.zeros([npst, npc])\n",
    "cov_evecs           = np.zeros((npst, npc, gexp_lil.shape[1]))\n",
    "\n",
    "cov_evals_shuf      = np.zeros([nsamp, npc])\n",
    "cov_evals_boot      = np.zeros([nboot, npc])\n",
    "\n",
    "cov_eval_rat_shuf   = np.zeros([nsamp, npc])\n",
    "cov_eval_rat_boot   = np.zeros([nboot, npc])\n",
    "\n",
    "pca                 = PCA(n_components=npc)\n",
    "\n",
    "ts = [109,87]\n",
    "\n",
    "for t in ts:\n",
    "\n",
    "    if len(bin_cidxs[t]) < npc + 1:\n",
    "        print('at t = {0}, ncells = {1}, so skipping pca (npc = {2})'.format(t, len(pst_bins[t]), npc))\n",
    "        continue\n",
    "\n",
    "    ts.append(t)\n",
    "    if t%5 == 0:\n",
    "        print('bin {0}/{1}'.format(t,npst))\n",
    "\n",
    "    gexpt        = gexp_lil[bin_cidxs[t]].toarray()\n",
    "    ncell, ngene = gexpt.shape\n",
    "\n",
    "    pca.fit(gexpt)\n",
    "    cov_evals[t]    = pca.explained_variance_\n",
    "    cov_evecs[t]    = pca.components_\n",
    "    cov_eval_rat[t] = pca.explained_variance_ratio_\n",
    "\n",
    "    for i in range(nsamp):\n",
    "        gexp_shuf = np.array([gexpt[:,g][np.random.choice(ncell, ncell, replace=True)] \n",
    "                              for g in range(ngene)]).T\n",
    "        pca.fit(gexp_shuf)\n",
    "        cov_evals_shuf[i]    = pca.explained_variance_\n",
    "        cov_eval_rat_shuf[i] = pca.explained_variance_ratio_\n",
    "    \n",
    "    np.save('{0}/shuf_eval_t{1}.npy'.format(args.outdir, t), cov_evals_shuf)\n",
    "    np.save('{0}/shuf_eval_rat_t{1}.npy'.format(args.outdir, t), cov_eval_rat_shuf)\n",
    "\n",
    "    for i in range(nboot):\n",
    "        cidxs     = np.random.choice(ncell, size=ncell, replace=True)\n",
    "\n",
    "        while np.unique(cidxs).shape[0]==1: # redraw if the same cell is chosen bc can't be pca'd\n",
    "            cidxs     = np.random.choice(ncell, size=ncell, replace=True)\n",
    "        \n",
    "        gexp_shuf = gexpt[cidxs,:]\n",
    "        pca.fit(gexp_shuf)\n",
    "        cov_evals_boot[i] = pca.explained_variance_\n",
    "        cov_eval_rat_boot[i] = pca.explained_variance_ratio_\n",
    "    \n",
    "    np.save('{0}/boot_eval_t{1}.npy'.format(args.outdir, t), cov_evals_boot)    \n",
    "    np.save('{0}/boot_eval_rat_t{1}.npy'.format(args.outdir, t), cov_eval_rat_boot)\n",
    "    \n",
    "np.save('{0}/bin_ids.npy'.format(args.outdir),  np.array(ts))\n",
    "np.save('{0}/dat_evec.npy'.format(args.outdir), cov_evecs)\n",
    "np.save('{0}/dat_eval.npy'.format(args.outdir), cov_evals)\n",
    "np.save('{0}/dat_eval_rat.npy'.format(args.outdir), cov_eval_rat)"
   ]
  },
  {
   "cell_type": "code",
   "execution_count": 143,
   "metadata": {},
   "outputs": [],
   "source": [
    "neg_binom_dir = '{0}/neg_binom_sinkhorn_pca'.format(datdir)"
   ]
  },
  {
   "cell_type": "code",
   "execution_count": 145,
   "metadata": {},
   "outputs": [],
   "source": [
    "nt = len(bin_cidxs)"
   ]
  },
  {
   "cell_type": "code",
   "execution_count": 151,
   "metadata": {},
   "outputs": [],
   "source": [
    "evals = np.array([np.load('{0}/eval/neut_bsz1000_bin{1}.npy'.format(neg_binom_dir, t))[:100] for t in range(nt)])"
   ]
  },
  {
   "cell_type": "code",
   "execution_count": 156,
   "metadata": {},
   "outputs": [],
   "source": [
    "mshape = np.array([np.load('{0}/mat_shape/neut_bsz1000_bin{1}.npy'.format(neg_binom_dir, t)) for t in range(nt)])"
   ]
  },
  {
   "cell_type": "code",
   "execution_count": 180,
   "metadata": {},
   "outputs": [],
   "source": [
    "#mshape"
   ]
  },
  {
   "cell_type": "code",
   "execution_count": 168,
   "metadata": {},
   "outputs": [
    {
     "data": {
      "image/png": "[encoded data removed]",
      "text/plain": [
       "<Figure size 432x288 with 1 Axes>"
      ]
     },
     "metadata": {
      "needs_background": "light"
     },
     "output_type": "display_data"
    }
   ],
   "source": [
    "fig,axs=plt.subplots()\n",
    "axs.plot(np.arange(nt), evals[:,0],'ko-')\n",
    "#axs.plot(np.arange(nt), evals[:,1],'bo-')\n",
    "#axs.plot(np.arange(nt), evals[:,2],'ro-')\n",
    "\n",
    "axs.set_yscale('log')\n",
    "\n",
    "axs.plot(np.arange(nt), mshape[:,3],'s-',color='grey')\n",
    "for t in ts:\n",
    "    axs.axvline(t)"
   ]
  },
  {
   "cell_type": "code",
   "execution_count": 183,
   "metadata": {},
   "outputs": [
    {
     "data": {
      "text/plain": [
       "[<matplotlib.lines.Line2D at 0x7f9b2990fca0>]"
      ]
     },
     "execution_count": 183,
     "metadata": {},
     "output_type": "execute_result"
    },
    {
     "data": {
      "image/png": "[encoded data removed]",
      "text/plain": [
       "<Figure size 432x288 with 1 Axes>"
      ]
     },
     "metadata": {
      "needs_background": "light"
     },
     "output_type": "display_data"
    }
   ],
   "source": [
    "fig,axs=plt.subplots()\n",
    "axs.plot(mshape[:,3])\n",
    "axs.plot(evals[:,0],'ko-')\n"
   ]
  },
  {
   "cell_type": "code",
   "execution_count": 184,
   "metadata": {},
   "outputs": [
    {
     "data": {
      "text/plain": [
       "(121, 100)"
      ]
     },
     "execution_count": 184,
     "metadata": {},
     "output_type": "execute_result"
    }
   ],
   "source": [
    "evals.shape"
   ]
  },
  {
   "cell_type": "code",
   "execution_count": 186,
   "metadata": {},
   "outputs": [
    {
     "data": {
      "text/plain": [
       "array([0])"
      ]
     },
     "execution_count": 186,
     "metadata": {},
     "output_type": "execute_result"
    }
   ],
   "source": [
    "np.where(evals[0]>mshape[0,3])[0]"
   ]
  },
  {
   "cell_type": "code",
   "execution_count": 222,
   "metadata": {},
   "outputs": [],
   "source": [
    "e1_sk = [np.load('{0}/evec/neut_bsz1000_bin{1}.npy'.format(neg_binom_dir, t))[0] for t in range(nt)]\n",
    "nzgidx = [np.load('{0}/nz_gidx/neut_bsz1000_bin{1}.npy'.format(neg_binom_dir, t)) for t in range(nt)]\n",
    "e1_full = np.zeros((nt, ngene))\n",
    "for t in range(nt):\n",
    "    e1_full[t,nzgidx[t]]=e1_sk[t]"
   ]
  },
  {
   "cell_type": "code",
   "execution_count": 223,
   "metadata": {},
   "outputs": [],
   "source": [
    "evec_proj = e1_full.dot(e1_full.T)"
   ]
  },
  {
   "cell_type": "code",
   "execution_count": 234,
   "metadata": {},
   "outputs": [
    {
     "data": {
      "image/png": "[encoded data removed]",
      "text/plain": [
       "<Figure size 432x288 with 2 Axes>"
      ]
     },
     "metadata": {
      "needs_background": "light"
     },
     "output_type": "display_data"
    }
   ],
   "source": [
    "fig,axs=plt.subplots(1,2)\n",
    "#im=axs.imshow(np.abs(evec_proj))\n",
    "im1=axs[0].imshow(np.abs(pst_pc1_proj))\n",
    "im2=axs[1].imshow(np.abs(evec_proj))\n",
    "\n",
    "\n",
    "for t in ts:\n",
    "    for ax in axs:\n",
    "        ax.axvline(t,color='white')\n",
    "        ax.axhline(t,color='white')\n",
    "    \n",
    "# divider = make_axes_locatable(axs)\n",
    "# cax = divider.append_axes(\"right\", size=\"7%\", pad=0.2)\n",
    "\n",
    "# plt.colorbar(im, cax=cax)"
   ]
  },
  {
   "cell_type": "code",
   "execution_count": 241,
   "metadata": {},
   "outputs": [
    {
     "data": {
      "text/plain": [
       "<matplotlib.collections.PathCollection at 0x7f97cd338580>"
      ]
     },
     "execution_count": 241,
     "metadata": {},
     "output_type": "execute_result"
    },
    {
     "data": {
      "image/png": "[encoded data removed]",
      "text/plain": [
       "<Figure size 432x288 with 1 Axes>"
      ]
     },
     "metadata": {
      "needs_background": "light"
     },
     "output_type": "display_data"
    }
   ],
   "source": [
    "fig,axs=plt.subplots()\n",
    "axs.scatter(np.abs(cc1),np.abs(cc2))"
   ]
  },
  {
   "cell_type": "code",
   "execution_count": 238,
   "metadata": {},
   "outputs": [],
   "source": [
    "cc1 = np.hstack([pst_pc1_proj[i,i+1:] for i in range(nt)])\n",
    "cc2 = np.hstack([evec_proj[i,i+1:] for i in range(nt)])"
   ]
  },
  {
   "cell_type": "code",
   "execution_count": 228,
   "metadata": {},
   "outputs": [],
   "source": [
    "pst_pc1_proj = pst_pc1.dot(pst_pc1.T)"
   ]
  },
  {
   "cell_type": "code",
   "execution_count": null,
   "metadata": {},
   "outputs": [],
   "source": [
    "fig,axs=plt.subplots()"
   ]
  },
  {
   "cell_type": "code",
   "execution_count": 170,
   "metadata": {},
   "outputs": [
    {
     "ename": "IndexError",
     "evalue": "index 0 is out of bounds for axis 0 with size 0",
     "output_type": "error",
     "traceback": [
      "\u001b[0;31m---------------------------------------------------------------------------\u001b[0m",
      "\u001b[0;31mIndexError\u001b[0m                                Traceback (most recent call last)",
      "\u001b[0;32m<ipython-input-170-d863764bf181>\u001b[0m in \u001b[0;36m<module>\u001b[0;34m\u001b[0m\n\u001b[0;32m----> 1\u001b[0;31m \u001b[0mevec0\u001b[0m \u001b[0;34m=\u001b[0m \u001b[0;34m[\u001b[0m\u001b[0mnp\u001b[0m\u001b[0;34m.\u001b[0m\u001b[0mload\u001b[0m\u001b[0;34m(\u001b[0m\u001b[0;34m'{0}/evec/neut_bsz1000_bin{1}.npy'\u001b[0m\u001b[0;34m.\u001b[0m\u001b[0mformat\u001b[0m\u001b[0;34m(\u001b[0m\u001b[0mneg_binom_dir\u001b[0m\u001b[0;34m,\u001b[0m \u001b[0mt\u001b[0m\u001b[0;34m)\u001b[0m\u001b[0;34m)\u001b[0m\u001b[0;34m[\u001b[0m\u001b[0;36m0\u001b[0m\u001b[0;34m]\u001b[0m \u001b[0;32mfor\u001b[0m \u001b[0mt\u001b[0m \u001b[0;32min\u001b[0m \u001b[0mrange\u001b[0m\u001b[0;34m(\u001b[0m\u001b[0mnt\u001b[0m\u001b[0;34m)\u001b[0m\u001b[0;34m]\u001b[0m\u001b[0;34m\u001b[0m\u001b[0;34m\u001b[0m\u001b[0m\n\u001b[0m",
      "\u001b[0;32m<ipython-input-170-d863764bf181>\u001b[0m in \u001b[0;36m<listcomp>\u001b[0;34m(.0)\u001b[0m\n\u001b[0;32m----> 1\u001b[0;31m \u001b[0mevec0\u001b[0m \u001b[0;34m=\u001b[0m \u001b[0;34m[\u001b[0m\u001b[0mnp\u001b[0m\u001b[0;34m.\u001b[0m\u001b[0mload\u001b[0m\u001b[0;34m(\u001b[0m\u001b[0;34m'{0}/evec/neut_bsz1000_bin{1}.npy'\u001b[0m\u001b[0;34m.\u001b[0m\u001b[0mformat\u001b[0m\u001b[0;34m(\u001b[0m\u001b[0mneg_binom_dir\u001b[0m\u001b[0;34m,\u001b[0m \u001b[0mt\u001b[0m\u001b[0;34m)\u001b[0m\u001b[0;34m)\u001b[0m\u001b[0;34m[\u001b[0m\u001b[0;36m0\u001b[0m\u001b[0;34m]\u001b[0m \u001b[0;32mfor\u001b[0m \u001b[0mt\u001b[0m \u001b[0;32min\u001b[0m \u001b[0mrange\u001b[0m\u001b[0;34m(\u001b[0m\u001b[0mnt\u001b[0m\u001b[0;34m)\u001b[0m\u001b[0;34m]\u001b[0m\u001b[0;34m\u001b[0m\u001b[0;34m\u001b[0m\u001b[0m\n\u001b[0m",
      "\u001b[0;31mIndexError\u001b[0m: index 0 is out of bounds for axis 0 with size 0"
     ]
    }
   ],
   "source": [
    "evec0 = [np.load('{0}/evec/neut_bsz1000_bin{1}.npy'.format(neg_binom_dir, t))[0] for t in range(nt)]"
   ]
  },
  {
   "cell_type": "code",
   "execution_count": 187,
   "metadata": {},
   "outputs": [],
   "source": [
    "t=0\n",
    "e1 = np.load('{0}/evec/neut_bsz1000_bin{1}.npy'.format(neg_binom_dir, t))"
   ]
  },
  {
   "cell_type": "code",
   "execution_count": 190,
   "metadata": {},
   "outputs": [],
   "source": [
    "\n"
   ]
  },
  {
   "cell_type": "code",
   "execution_count": 212,
   "metadata": {},
   "outputs": [],
   "source": [
    "e1_full = np.zeros(ngene)\n",
    "e1_full[nzgidx]=e1[0]"
   ]
  },
  {
   "cell_type": "code",
   "execution_count": 213,
   "metadata": {},
   "outputs": [
    {
     "data": {
      "text/plain": [
       "array([0.        , 0.00660967, 0.0013955 , ..., 0.00965714, 0.03151239,\n",
       "       0.0013469 ])"
      ]
     },
     "execution_count": 213,
     "metadata": {},
     "output_type": "execute_result"
    }
   ],
   "source": [
    "e1_full"
   ]
  },
  {
   "cell_type": "code",
   "execution_count": 196,
   "metadata": {},
   "outputs": [
    {
     "data": {
      "text/plain": [
       "array([ 2.71406094e-05, -1.45952967e-03,  2.49309989e-05, ...,\n",
       "        3.10584224e-03,  2.83321644e-02,  2.10459650e-05])"
      ]
     },
     "execution_count": 196,
     "metadata": {},
     "output_type": "execute_result"
    }
   ],
   "source": [
    "pst_pc1[0]"
   ]
  },
  {
   "cell_type": "code",
   "execution_count": 207,
   "metadata": {},
   "outputs": [
    {
     "data": {
      "text/plain": [
       "<matplotlib.collections.PathCollection at 0x7f9b29c11ca0>"
      ]
     },
     "execution_count": 207,
     "metadata": {},
     "output_type": "execute_result"
    },
    {
     "data": {
      "image/png": "[encoded data removed]",
      "text/plain": [
       "<Figure size 432x288 with 1 Axes>"
      ]
     },
     "metadata": {
      "needs_background": "light"
     },
     "output_type": "display_data"
    }
   ],
   "source": [
    "fig,axs=plt.subplots()\n",
    "axs.scatter(e1_full[nzgidx]**2, pst_pc1[0,nzgidx]**2)"
   ]
  },
  {
   "cell_type": "code",
   "execution_count": 247,
   "metadata": {},
   "outputs": [
    {
     "data": {
      "text/plain": [
       "Text(0, 0.5, 'frequency')"
      ]
     },
     "execution_count": 247,
     "metadata": {},
     "output_type": "execute_result"
    },
    {
     "data": {
      "image/png": "[encoded data removed]",
      "text/plain": [
       "<Figure size 432x288 with 1 Axes>"
      ]
     },
     "metadata": {
      "needs_background": "light"
     },
     "output_type": "display_data"
    }
   ],
   "source": [
    "fig,axs=plt.subplots()\n",
    "axs.hist(e1_full[ts[0],nzgidx[ts[0]]]**2,100,color='blue')\n",
    "axs.hist(pst_pc1[ts[0],nzgidx[ts[0]]]**2,100,color='orange',alpha=0.5)\n",
    "axs.set_yscale('log')\n",
    "#axs.set_xscale('log')\n",
    "axs.set_xlabel('loading (squared)')\n",
    "axs.set_ylabel('frequency')"
   ]
  },
  {
   "cell_type": "code",
   "execution_count": 215,
   "metadata": {},
   "outputs": [
    {
     "data": {
      "text/plain": [
       "(1836,)"
      ]
     },
     "execution_count": 215,
     "metadata": {},
     "output_type": "execute_result"
    }
   ],
   "source": [
    "ts = [109,87]\n",
    "\n",
    "cov_evec_shuf           = np.zeros((len(ts), nsamp,ngene))\n",
    "npc = 1\n",
    "for ti,t in enumerate(ts):\n",
    "    \n",
    "    gct_nz     = gct[nzgidx,:].T #Nc x Ng\n",
    "#    usq, vsq,_ = sinkhorn((1+alpha[nzgidx])*gct_nz)\n",
    "    usq = np.load('{0}/{1}.npy'.format(usq_dir, fnm))\n",
    "    vsq = np.load('{0}/{1}.npy'.format(vsq_dir, fnm))    \n",
    "    \n",
    "    gct_til    = np.diag(np.sqrt(usq))@gct_nz@np.diag(np.sqrt(vsq))\n",
    "\n",
    "    print('\\nrunning PCA\\n')\n",
    "    # PCA\n",
    "    gct_pca   = PCA().fit(gct_til)\n",
    "    evals     = gct_pca.explained_variance_\n",
    "    eval_lim  = lmax(gct_til)\n",
    "    asp_rat   = 1./np.divide(*gct_til.shape) # num_columns / num rows\n",
    "    nhi_eval  = np.where(evals>eval_lim)[0].shape[0]\n",
    "    \n",
    "    gexpt        = gexp_lil[bin_cidxs[t]].toarray()\n",
    "    ncell, ngene = gexpt.shape\n",
    "    \n",
    "    for i in range(nsamp):\n",
    "        pca                 = PCA(n_components=npc)\n",
    "        gexp_shuf = np.array([gexpt[:,g][np.random.choice(ncell, ncell, replace=True)] \n",
    "                              for g in range(ngene)]).T\n",
    "        pca.fit(gexp_shuf)\n",
    "        #cov_evals_shuf[t,i]    = pca.explained_variance_\n",
    "        #cov_eval_rat_shuf[t,i] = pca.explained_variance_ratio_\n",
    "        cov_evec_shuf[ti,i]     = pca.components_[0]"
   ]
  },
  {
   "cell_type": "code",
   "execution_count": 211,
   "metadata": {},
   "outputs": [
    {
     "data": {
      "text/plain": [
       "(1, 11716)"
      ]
     },
     "execution_count": 211,
     "metadata": {},
     "output_type": "execute_result"
    }
   ],
   "source": [
    "e1.shape"
   ]
  },
  {
   "cell_type": "code",
   "execution_count": 205,
   "metadata": {},
   "outputs": [
    {
     "data": {
      "text/plain": [
       "(array([], dtype=int64),)"
      ]
     },
     "execution_count": 205,
     "metadata": {},
     "output_type": "execute_result"
    }
   ],
   "source": [
    "np.where(e1_full[nzgidx]==0)"
   ]
  },
  {
   "cell_type": "code",
   "execution_count": 169,
   "metadata": {},
   "outputs": [
    {
     "ename": "NameError",
     "evalue": "name 'evec0' is not defined",
     "output_type": "error",
     "traceback": [
      "\u001b[0;31m---------------------------------------------------------------------------\u001b[0m",
      "\u001b[0;31mNameError\u001b[0m                                 Traceback (most recent call last)",
      "\u001b[0;32m<ipython-input-169-c471a6da2418>\u001b[0m in \u001b[0;36m<module>\u001b[0;34m\u001b[0m\n\u001b[0;32m----> 1\u001b[0;31m \u001b[0mevec0\u001b[0m\u001b[0;34m.\u001b[0m\u001b[0mshape\u001b[0m\u001b[0;34m\u001b[0m\u001b[0;34m\u001b[0m\u001b[0m\n\u001b[0m",
      "\u001b[0;31mNameError\u001b[0m: name 'evec0' is not defined"
     ]
    }
   ],
   "source": [
    "evec0.shape"
   ]
  },
  {
   "cell_type": "code",
   "execution_count": null,
   "metadata": {},
   "outputs": [],
   "source": []
  }
 ],
 "metadata": {
  "kernelspec": {
   "display_name": "Python [conda env:bifurc]",
   "language": "python",
   "name": "conda-env-bifurc-py"
  },
  "language_info": {
   "codemirror_mode": {
    "name": "ipython",
    "version": 3
   },
   "file_extension": ".py",
   "mimetype": "text/x-python",
   "name": "python",
   "nbconvert_exporter": "python",
   "pygments_lexer": "ipython3",
   "version": "3.8.0"
  }
 },
 "nbformat": 4,
 "nbformat_minor": 2
}
