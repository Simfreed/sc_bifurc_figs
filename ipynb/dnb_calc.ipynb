{
 "cells": [
  {
   "cell_type": "code",
   "execution_count": 1,
   "metadata": {},
   "outputs": [],
   "source": [
    "import numpy as np\n",
    "from scipy import sparse\n",
    "import pickle as pkl"
   ]
  },
  {
   "cell_type": "code",
   "execution_count": 4,
   "metadata": {},
   "outputs": [
    {
     "name": "stdout",
     "output_type": "stream",
     "text": [
      "loading gene expression matrix\n",
      "loading cluster labels and SPRING positions\n",
      "loading neutrophil pseudotime ranking\n",
      "binning gene expression\n"
     ]
    }
   ],
   "source": [
    "# Needs: \n",
    "# pseudotime trajectory\n",
    "# eigenvalues as function of time\n",
    "# gexp for neutrophil genes\n",
    "# gexp for myelocite genes\n",
    "\n",
    "\n",
    "headdir    = '/Users/sfreedman/Code/sc_bifurc_figs'\n",
    "figdir     = '{0}/figs'.format(headdir)\n",
    "datdir     = '{0}/neutrophil_data'.format(headdir)\n",
    "eigdir     = '{0}/eig'.format(datdir)\n",
    "#eigdir     = '{0}/eig_ncell_sample'.format(datdir)\n",
    "\n",
    "gexp_fname = '{0}/gene_expr.npz'.format(datdir)\n",
    "pst_fname  = '{0}/pseudotime.txt'.format(datdir)\n",
    "gnm_fname  = '{0}/gene_names.txt'.format(datdir)\n",
    "meta_fname = '{0}/metadata.txt'.format(datdir)\n",
    "\n",
    "# In[6]:\n",
    "\n",
    "print('loading gene expression matrix')\n",
    "gexp_sp    = sparse.load_npz(gexp_fname) # WT: 18.3 seconds\n",
    "gexp_lil   = gexp_sp.tolil() # WT: 3 min 55 seconds\n",
    "\n",
    "\n",
    "# In[8]:\n",
    "\n",
    "print('loading cluster labels and SPRING positions')\n",
    "dtp      = np.dtype([('Library Cell', np.unicode_, 16),('barcode', np.unicode_, 20),\n",
    "              ('Time point', int),('Starting population', np.unicode_, 20),\n",
    "               ('Cell type annotation', np.unicode_, 60),\n",
    "               ('Well', int), ('SPRING-x', np.float64), ('SPRING-y', np.float64)])\n",
    "\n",
    "metadata = np.genfromtxt(meta_fname, delimiter='\\t',skip_header=1, dtype=dtp)\n",
    "\n",
    "nms      = dtp.names\n",
    "gnms     = np.genfromtxt(gnm_fname,dtype='str')\n",
    "\n",
    "print('loading neutrophil pseudotime ranking')\n",
    "neut_psts = np.genfromtxt(pst_fname, skip_header=True, dtype='int')\n",
    "\n",
    "\n",
    "# In[12]:\n",
    "\n",
    "print('binning gene expression')\n",
    "bin_sz            = 1000\n",
    "overlap           = int(bin_sz/2)\n",
    "\n",
    "srt               = np.argsort(neut_psts[:,1])\n",
    "last_full_bin     = int(np.floor(srt.shape[0]/overlap)*overlap) - bin_sz + overlap\n",
    "neut_pst_grps     = [srt[i:(i+bin_sz)] for i in range(0,last_full_bin,overlap)]\n",
    "neut_pst_grps[-1] = np.union1d(neut_pst_grps[-1], srt[last_full_bin:])\n",
    "neut_pst_cidxs    = [np.array(neut_psts[grp,0], dtype = 'int') for grp in neut_pst_grps]\n",
    "npsts             = len(neut_pst_cidxs)"
   ]
  },
  {
   "cell_type": "code",
   "execution_count": 5,
   "metadata": {},
   "outputs": [
    {
     "name": "stdout",
     "output_type": "stream",
     "text": [
      "marker gene expression\n",
      "matrix of gene expression for highly expressed / varying genes\n"
     ]
    }
   ],
   "source": [
    "###############################################################\n",
    "# marker genes\n",
    "###############################################################\n",
    "\n",
    "# In[26]:\n",
    "\n",
    "print('marker gene expression')\n",
    "gene_group_labs  = ['neutrophil','MPP','GPP','PMy','My']\n",
    "\n",
    "neut_gnms        = np.array(['S100a9', 'Itgb2l', 'Elane', 'Fcnb', 'Mpo', 'Prtn3', \n",
    "                              'S100a6', 'S100a8', 'Lcn2', 'Lrg1'])\n",
    "mpp_gnms         = np.array(['Ly6a','Meis1','Flt3','Cd34'])\n",
    "gmp_gnms         = np.array(['Csf1r','Cebpa'])\n",
    "pmy_gnms         = np.array(['Gfi1','Elane'])\n",
    "my_gnms          = np.array(['S100a8','Ngp','Ltf'])\n",
    "\n",
    "grp_gnms  = [neut_gnms, mpp_gnms, gmp_gnms, pmy_gnms, my_gnms]\n",
    "\n",
    "grp_gidxs = [np.array([np.where(gnms==gnm)[0][0] for gnm in k]) for k in grp_gnms]\n",
    "\n",
    "\n",
    "###############################################################\n",
    "# additional highly varying, highly expressed genes...#\n",
    "###############################################################\n",
    "print('matrix of gene expression for highly expressed / varying genes')\n",
    "\n",
    "nnz_thresh  = 0\n",
    "cv_thresh   = 0.5\n",
    "gexp_thresh = 1\n",
    "\n",
    "mu_gexp = np.array([np.mean(gexp_lil[cidxs].toarray(),axis=0) for cidxs in neut_pst_cidxs]) # takes like a minute\n",
    "std_gexp = np.array([np.std(gexp_lil[cidxs].toarray(),axis=0) for cidxs in neut_pst_cidxs]) # takes like a minute\n",
    "\n",
    "ng           = mu_gexp.shape[1]\n",
    "nnzs         = np.sum(mu_gexp>0,axis=0)\n",
    "mu_mu_gexp   = np.mean(mu_gexp,axis=0)\n",
    "max_mu_gexp  = np.max(mu_gexp,axis=0)\n",
    "\n",
    "std_mu_gexp  = np.std(mu_gexp,axis=0)\n",
    "cvs          = np.divide(std_mu_gexp, mu_mu_gexp, out = np.zeros(ng), where=mu_mu_gexp>0)\n",
    "\n",
    "hi_gidxs        = np.where((nnzs > nnz_thresh) & (cvs>cv_thresh) & (max_mu_gexp>gexp_thresh))[0]"
   ]
  },
  {
   "cell_type": "code",
   "execution_count": 6,
   "metadata": {},
   "outputs": [],
   "source": [
    "gexp_full = gexp_sp.toarray() # less than a minute"
   ]
  },
  {
   "cell_type": "code",
   "execution_count": 7,
   "metadata": {},
   "outputs": [],
   "source": [
    "#dnb_gidxs       = np.union1d(np.hstack(grp_gidxs), hi_gidxs)\n",
    "dnb_gidxs       = np.unique(np.hstack(grp_gidxs))\n",
    "non_dnb_gidxs   = np.setdiff1d(np.arange(ng),dnb_gidxs)\n",
    "#np.save('{0}/high_var_gexp_trajs.npy'.format(datdir), mu_gexp)"
   ]
  },
  {
   "cell_type": "code",
   "execution_count": 8,
   "metadata": {},
   "outputs": [],
   "source": [
    "def dnb_biomarker(t): # takes about 9 seconds per 1000 cell group\n",
    "#t = 0   \n",
    "    gexp     = gexp_full[neut_pst_cidxs[t]]\n",
    "    gexp_std = np.std(gexp,axis  = 0)\n",
    "    nz_gidxs = np.where(gexp_std > 0)[0]\n",
    "    gcorr    = np.corrcoef(gexp[:,nz_gidxs].T)\n",
    "\n",
    "    nz_dnb_gidxs, dnb_corr_gidxs,_ = np.intersect1d(nz_gidxs, dnb_gidxs, assume_unique = True, \n",
    "                                                    return_indices=True)\n",
    "    _,non_dnb_corr_gidxs,_         = np.intersect1d(nz_gidxs, non_dnb_gidxs, assume_unique = True, \n",
    "                                                    return_indices=True)\n",
    "\n",
    "    dnb_corrs = np.array([gcorr[dnb_corr_gidxs[i],dnb_corr_gidxs[j]] \n",
    "                       for i in range(len(dnb_corr_gidxs)) \n",
    "                       for j in range(i+1,len(dnb_corr_gidxs))])\n",
    "\n",
    "    non_dnb_corrs = np.array([gcorr[non_dnb_corr_gidxs[i],non_dnb_corr_gidxs[j]] \n",
    "                       for i in range(len(dnb_corr_gidxs)) \n",
    "                       for j in range(len(non_dnb_corr_gidxs))])\n",
    "\n",
    "    dnb_mu_std          = np.mean(gexp_std[nz_dnb_gidxs]) \n",
    "    dnb_mu_abs_corr     = np.mean(np.abs(dnb_corrs))\n",
    "    non_dnb_mu_abs_corr = np.mean(np.abs(non_dnb_corrs))\n",
    "    return dnb_mu_std * dnb_mu_abs_corr / non_dnb_mu_abs_corr"
   ]
  },
  {
   "cell_type": "code",
   "execution_count": 9,
   "metadata": {},
   "outputs": [
    {
     "name": "stdout",
     "output_type": "stream",
     "text": [
      "8.702278137207031e-05\n"
     ]
    }
   ],
   "source": [
    "import time\n",
    "t=time.time()\n",
    "t2=time.time()\n",
    "print(t2-t)"
   ]
  },
  {
   "cell_type": "code",
   "execution_count": 10,
   "metadata": {},
   "outputs": [
    {
     "name": "stdout",
     "output_type": "stream",
     "text": [
      "t=0 took 9.48 seconds\n",
      "t=1 took 9.75 seconds\n",
      "t=2 took 9.84 seconds\n",
      "t=3 took 9.81 seconds\n",
      "t=4 took 10.52 seconds\n",
      "t=5 took 9.90 seconds\n",
      "t=6 took 9.88 seconds\n",
      "t=7 took 10.44 seconds\n",
      "t=8 took 10.11 seconds\n",
      "t=9 took 10.75 seconds\n",
      "t=10 took 10.01 seconds\n",
      "t=11 took 9.60 seconds\n",
      "t=12 took 10.10 seconds\n",
      "t=13 took 9.81 seconds\n",
      "t=14 took 10.77 seconds\n",
      "t=15 took 9.70 seconds\n",
      "t=16 took 9.57 seconds\n",
      "t=17 took 9.80 seconds\n",
      "t=18 took 10.77 seconds\n",
      "t=19 took 10.12 seconds\n",
      "t=20 took 10.80 seconds\n",
      "t=21 took 10.31 seconds\n",
      "t=22 took 10.48 seconds\n",
      "t=23 took 10.35 seconds\n",
      "t=24 took 10.96 seconds\n",
      "t=25 took 10.25 seconds\n",
      "t=26 took 10.02 seconds\n",
      "t=27 took 10.44 seconds\n",
      "t=28 took 11.11 seconds\n",
      "t=29 took 10.48 seconds\n",
      "t=30 took 10.57 seconds\n",
      "t=31 took 11.21 seconds\n",
      "t=32 took 10.95 seconds\n",
      "t=33 took 10.43 seconds\n",
      "t=34 took 10.33 seconds\n",
      "t=35 took 11.16 seconds\n",
      "t=36 took 10.76 seconds\n",
      "t=37 took 11.33 seconds\n",
      "t=38 took 10.96 seconds\n",
      "t=39 took 10.96 seconds\n",
      "t=40 took 10.97 seconds\n",
      "t=41 took 11.34 seconds\n",
      "t=42 took 11.09 seconds\n",
      "t=43 took 35.90 seconds\n",
      "t=44 took 969.20 seconds\n",
      "t=45 took 1018.23 seconds\n",
      "t=46 took 1968.78 seconds\n",
      "t=47 took 209.28 seconds\n",
      "t=48 took 1087.51 seconds\n",
      "t=49 took 1277.09 seconds\n",
      "t=50 took 1903.02 seconds\n",
      "t=51 took 2046.99 seconds\n",
      "t=52 took 2963.03 seconds\n",
      "t=53 took 2154.24 seconds\n",
      "t=54 took 2078.98 seconds\n",
      "t=55 took 2003.04 seconds\n",
      "t=56 took 2923.61 seconds\n",
      "t=57 took 1897.48 seconds\n",
      "t=58 took 2756.88 seconds\n",
      "t=59 took 51.98 seconds\n",
      "t=60 took 1966.30 seconds\n",
      "t=61 took 697.40 seconds\n",
      "t=62 took 15.23 seconds\n",
      "t=63 took 14.53 seconds\n",
      "t=64 took 12.20 seconds\n",
      "t=65 took 12.11 seconds\n",
      "t=66 took 11.98 seconds\n",
      "t=67 took 11.58 seconds\n",
      "t=68 took 11.97 seconds\n",
      "t=69 took 12.89 seconds\n",
      "t=70 took 12.30 seconds\n",
      "t=71 took 12.32 seconds\n",
      "t=72 took 13.19 seconds\n",
      "t=73 took 12.35 seconds\n",
      "t=74 took 12.80 seconds\n",
      "t=75 took 13.36 seconds\n",
      "t=76 took 12.03 seconds\n",
      "t=77 took 12.03 seconds\n",
      "t=78 took 11.88 seconds\n",
      "t=79 took 13.10 seconds\n",
      "t=80 took 12.32 seconds\n",
      "t=81 took 12.91 seconds\n",
      "t=82 took 13.60 seconds\n",
      "t=83 took 12.45 seconds\n",
      "t=84 took 12.15 seconds\n",
      "t=85 took 12.83 seconds\n",
      "t=86 took 11.97 seconds\n",
      "t=87 took 12.65 seconds\n",
      "t=88 took 12.03 seconds\n",
      "t=89 took 12.11 seconds\n",
      "t=90 took 12.35 seconds\n",
      "t=91 took 10.84 seconds\n",
      "t=92 took 10.84 seconds\n",
      "t=93 took 10.68 seconds\n",
      "t=94 took 11.34 seconds\n",
      "t=95 took 10.50 seconds\n",
      "t=96 took 10.29 seconds\n",
      "t=97 took 10.13 seconds\n",
      "t=98 took 10.37 seconds\n",
      "t=99 took 9.62 seconds\n",
      "t=100 took 9.64 seconds\n",
      "t=101 took 9.80 seconds\n",
      "t=102 took 9.33 seconds\n",
      "t=103 took 8.88 seconds\n",
      "t=104 took 9.62 seconds\n",
      "t=105 took 8.79 seconds\n",
      "t=106 took 8.52 seconds\n",
      "t=107 took 8.88 seconds\n",
      "t=108 took 8.14 seconds\n",
      "t=109 took 8.10 seconds\n",
      "t=110 took 7.79 seconds\n",
      "t=111 took 7.64 seconds\n",
      "t=112 took 7.78 seconds\n",
      "t=113 took 7.50 seconds\n",
      "t=114 took 7.53 seconds\n",
      "t=115 took 7.35 seconds\n",
      "t=116 took 7.20 seconds\n",
      "t=117 took 7.22 seconds\n",
      "t=118 took 7.14 seconds\n",
      "t=119 took 6.90 seconds\n",
      "t=120 took 8.31 seconds\n"
     ]
    }
   ],
   "source": [
    "nsamp           = 100\n",
    "nt              = len(neut_pst_cidxs)\n",
    "n_dnb_gidxs     = len(np.hstack(grp_gidxs))\n",
    "dnb_gidxs_rand  = np.array([np.random.choice(ng, n_dnb_gidxs, replace=False) for i in range(nsamp)])\n",
    "dnb_biom_rand   = np.zeros((nsamp,nt))\n",
    "\n",
    "for t in range(nt):\n",
    "    t0 = time.time()\n",
    "\n",
    "    gexp     = gexp_full[neut_pst_cidxs[t]]\n",
    "    gexp_std = np.std(gexp,axis  = 0)\n",
    "    nz_gidxs = np.where(gexp_std > 0)[0]\n",
    "    gcorr    = np.corrcoef(gexp[:,nz_gidxs].T)\n",
    "    \n",
    "    for i in range(nsamp):\n",
    "        dnb_gidxs      = dnb_gidxs_rand[i]\n",
    "        non_dnb_gidxs = np.setdiff1d(np.arange(ng),dnb_gidxs)\n",
    "\n",
    "        nz_dnb_gidxs, dnb_corr_gidxs,_ = np.intersect1d(nz_gidxs, dnb_gidxs, assume_unique = True, \n",
    "                                                        return_indices=True)\n",
    "        _,non_dnb_corr_gidxs,_         = np.intersect1d(nz_gidxs, non_dnb_gidxs, assume_unique = True, \n",
    "                                                        return_indices=True)\n",
    "\n",
    "        dnb_corrs = np.array([gcorr[dnb_corr_gidxs[i],dnb_corr_gidxs[j]] \n",
    "                           for i in range(len(dnb_corr_gidxs)) \n",
    "                           for j in range(i+1,len(dnb_corr_gidxs))])\n",
    "\n",
    "        non_dnb_corrs = np.array([gcorr[non_dnb_corr_gidxs[i],non_dnb_corr_gidxs[j]] \n",
    "                           for i in range(len(dnb_corr_gidxs)) \n",
    "                           for j in range(len(non_dnb_corr_gidxs))])\n",
    "\n",
    "        dnb_mu_std          = np.mean(gexp_std[nz_dnb_gidxs]) \n",
    "        dnb_mu_abs_corr     = np.mean(np.abs(dnb_corrs))\n",
    "        non_dnb_mu_abs_corr = np.mean(np.abs(non_dnb_corrs))\n",
    "        dnb_biom_rand[i,t]  = dnb_mu_std * dnb_mu_abs_corr / non_dnb_mu_abs_corr\n",
    "        \n",
    "    print('t={0} took {1:.2f} seconds'.format(t, time.time()-t0))\n"
   ]
  },
  {
   "cell_type": "code",
   "execution_count": 11,
   "metadata": {},
   "outputs": [],
   "source": [
    "np.save('{0}/pst_dnb_random.npy'.format(datdir), dnb_biom_rand)"
   ]
  },
  {
   "cell_type": "code",
   "execution_count": 12,
   "metadata": {},
   "outputs": [
    {
     "name": "stdout",
     "output_type": "stream",
     "text": [
      "t=0\n",
      "t=10\n",
      "t=20\n",
      "t=30\n",
      "t=40\n",
      "t=50\n",
      "t=60\n",
      "t=70\n",
      "t=80\n",
      "t=90\n",
      "t=100\n",
      "t=110\n",
      "t=120\n"
     ]
    }
   ],
   "source": [
    "nt = len(neut_pst_cidxs)\n",
    "dnb_biom = np.zeros(nt)\n",
    "for t in range(nt):\n",
    "    if t%10==0:\n",
    "        print('t={0}'.format(t))\n",
    "    dnb_biom[t] = dnb_biomarker(t)"
   ]
  },
  {
   "cell_type": "code",
   "execution_count": 13,
   "metadata": {},
   "outputs": [],
   "source": [
    "save_fnm = 'pst_dnb_nnz_{0}_cv{1}_gexp{2}'.format(nnz_thresh, cv_thresh, gexp_thresh).replace('.','-')\n",
    "save_fnm = 'pst_dnb_markers'\n",
    "np.save('{0}/{1}.npy'.format(datdir, save_fnm), dnb_biom)"
   ]
  },
  {
   "cell_type": "code",
   "execution_count": 14,
   "metadata": {},
   "outputs": [
    {
     "data": {
      "text/plain": [
       "('/Users/sfreedman/Code/sc_bifurc_figs/neutrophil_data', 'pst_dnb_markers')"
      ]
     },
     "execution_count": 14,
     "metadata": {},
     "output_type": "execute_result"
    }
   ],
   "source": [
    "datdir,save_fnm"
   ]
  },
  {
   "cell_type": "code",
   "execution_count": null,
   "metadata": {},
   "outputs": [],
   "source": [
    "/Users/sfreedman/Code/sc_bifurc_figs//neutrophil_data/pst_dnb_nnz_0_cv0-5_gexp1.npy'"
   ]
  },
  {
   "cell_type": "code",
   "execution_count": 117,
   "metadata": {},
   "outputs": [
    {
     "data": {
      "text/plain": [
       "array([2.51528798, 2.35548517, 2.2993535 , 2.25606962, 2.27464471,\n",
       "       2.19634677, 2.05366841, 2.11306998, 2.14854462, 2.09241615,\n",
       "       2.03708608, 2.05362581, 2.04288023, 2.14068559, 2.10054504,\n",
       "       2.10317786, 2.252113  , 2.20858826, 2.22966654, 2.28285245,\n",
       "       2.20783458, 2.18293207, 2.18427446, 2.12272778, 2.10426362,\n",
       "       2.12987264, 2.17004066, 2.26828752, 2.21605136, 2.19277449,\n",
       "       2.22277477, 2.23170421, 2.38079216, 2.3680383 , 2.42260137,\n",
       "       2.52814381, 2.53975657, 2.39560726, 2.35381244, 2.46570855,\n",
       "       2.48106105, 2.48452592, 2.70546443, 2.71194899, 2.58533405,\n",
       "       2.59650589, 2.81084784, 2.81422695, 2.59406872, 2.63806423,\n",
       "       2.7472489 , 2.74705939, 2.95163497, 2.91402806, 2.80524596,\n",
       "       2.88889808, 2.90068405, 3.04320318, 3.05833159, 2.79142373,\n",
       "       2.88003509, 2.98640256, 2.9041966 , 2.92770407, 3.03419307,\n",
       "       3.12115733, 2.90598638, 2.95755718, 3.00499049, 2.95547043,\n",
       "       2.93628941, 3.00240662, 2.96289463, 2.85387258, 2.92072286,\n",
       "       2.9815488 , 3.04917299, 3.054145  , 3.01580888, 3.16931942,\n",
       "       3.19637998, 3.02597345, 3.0372108 , 2.9136614 , 3.18518894,\n",
       "       3.37945011, 3.26182051, 3.2520538 , 3.25426249, 3.17716336,\n",
       "       3.28802207, 3.48736526, 3.5339452 , 3.54098126, 3.49800932,\n",
       "       3.47685933, 3.5557516 , 3.9417632 , 4.07019798, 3.64341034,\n",
       "       3.6594162 , 3.8686656 , 3.99487734, 4.19793299, 4.56441096,\n",
       "       4.79326364, 5.58596914, 7.12233917, 8.85790244, 9.67288311,\n",
       "       9.17752166, 7.95278641, 7.08875808, 7.53107274, 7.50535212,\n",
       "       7.29667639, 7.31340695, 7.2355173 , 7.11077932, 6.95189567,\n",
       "       7.22842981])"
      ]
     },
     "execution_count": 117,
     "metadata": {},
     "output_type": "execute_result"
    }
   ],
   "source": [
    "dnb_biom"
   ]
  },
  {
   "cell_type": "code",
   "execution_count": null,
   "metadata": {},
   "outputs": [],
   "source": [
    "fig,axs=plt.subplots()"
   ]
  },
  {
   "cell_type": "code",
   "execution_count": 25,
   "metadata": {},
   "outputs": [],
   "source": [
    "#gexp_corr0 = np.corrcoef(gexp_lil[neut_pst_cidxs[0]].T)"
   ]
  },
  {
   "cell_type": "code",
   "execution_count": 14,
   "metadata": {},
   "outputs": [
    {
     "data": {
      "text/plain": [
       "scipy.sparse.lil.lil_matrix"
      ]
     },
     "execution_count": 14,
     "metadata": {},
     "output_type": "execute_result"
    }
   ],
   "source": [
    "type(gexp_lil[neut_pst_cidxs[0]])"
   ]
  },
  {
   "cell_type": "code",
   "execution_count": 15,
   "metadata": {},
   "outputs": [],
   "source": [
    "def sparse_corr(A):\n",
    "    N = A.shape[0]\n",
    "    C=((A.T*A -(sum(A).T*sum(A)/N))/(N-1)).todense()\n",
    "    V=np.sqrt(np.mat(np.diag(C)).T*np.mat(np.diag(C)))\n",
    "    COR = np.divide(C,V+1e-119)\n",
    "    return COR"
   ]
  },
  {
   "cell_type": "code",
   "execution_count": 24,
   "metadata": {},
   "outputs": [
    {
     "name": "stdout",
     "output_type": "stream",
     "text": [
      "CPU times: user 39.1 s, sys: 1min 14s, total: 1min 53s\n",
      "Wall time: 2min 37s\n"
     ]
    }
   ],
   "source": [
    "%time gexp_corr0_lil = sparse_corr(gexp_lil[neut_pst_cidxs[0]])"
   ]
  },
  {
   "cell_type": "code",
   "execution_count": 23,
   "metadata": {},
   "outputs": [
    {
     "name": "stdout",
     "output_type": "stream",
     "text": [
      "CPU times: user 41.4 s, sys: 44.5 s, total: 1min 25s\n",
      "Wall time: 1min 58s\n"
     ]
    }
   ],
   "source": [
    "%time gexp_corr0_csr = sparse_corr(gexp_csr[neut_pst_cidxs[0]])"
   ]
  },
  {
   "cell_type": "code",
   "execution_count": 20,
   "metadata": {},
   "outputs": [
    {
     "data": {
      "text/plain": [
       "(25289, 25289)"
      ]
     },
     "execution_count": 20,
     "metadata": {},
     "output_type": "execute_result"
    }
   ],
   "source": [
    "gexp_corr0.shape"
   ]
  },
  {
   "cell_type": "code",
   "execution_count": 18,
   "metadata": {},
   "outputs": [
    {
     "data": {
      "text/plain": [
       "scipy.sparse.coo.coo_matrix"
      ]
     },
     "execution_count": 18,
     "metadata": {},
     "output_type": "execute_result"
    }
   ],
   "source": [
    "type(gexp_sp)"
   ]
  },
  {
   "cell_type": "code",
   "execution_count": 21,
   "metadata": {},
   "outputs": [],
   "source": [
    "gexp_csr =  gexp_sp.tocsr() #11:48...11:49"
   ]
  },
  {
   "cell_type": "code",
   "execution_count": 22,
   "metadata": {},
   "outputs": [
    {
     "data": {
      "text/plain": [
       "(130887, 25289)"
      ]
     },
     "execution_count": 22,
     "metadata": {},
     "output_type": "execute_result"
    }
   ],
   "source": [
    "gexp_csr.shape"
   ]
  },
  {
   "cell_type": "code",
   "execution_count": 28,
   "metadata": {},
   "outputs": [
    {
     "data": {
      "text/plain": [
       "(130887, 25289)"
      ]
     },
     "execution_count": 28,
     "metadata": {},
     "output_type": "execute_result"
    }
   ],
   "source": [
    "gexp_full.shape"
   ]
  },
  {
   "cell_type": "code",
   "execution_count": 30,
   "metadata": {},
   "outputs": [
    {
     "data": {
      "text/plain": [
       "(1000, 25289)"
      ]
     },
     "execution_count": 30,
     "metadata": {},
     "output_type": "execute_result"
    }
   ],
   "source": [
    "gexp_full[neut_pst_cidxs[0]].shape"
   ]
  },
  {
   "cell_type": "code",
   "execution_count": 33,
   "metadata": {},
   "outputs": [
    {
     "name": "stderr",
     "output_type": "stream",
     "text": [
      "/Users/simonfreedman/opt/anaconda3/envs/bifurc/lib/python3.8/site-packages/numpy/lib/function_base.py:2642: RuntimeWarning: invalid value encountered in true_divide\n",
      "  c /= stddev[:, None]\n",
      "/Users/simonfreedman/opt/anaconda3/envs/bifurc/lib/python3.8/site-packages/numpy/lib/function_base.py:2643: RuntimeWarning: invalid value encountered in true_divide\n",
      "  c /= stddev[None, :]\n"
     ]
    },
    {
     "name": "stdout",
     "output_type": "stream",
     "text": [
      "CPU times: user 26.8 s, sys: 4.37 s, total: 31.1 s\n",
      "Wall time: 25.3 s\n"
     ]
    }
   ],
   "source": [
    "%time gexp_corr0_nonsp = np.corrcoef(gexp_full[neut_pst_cidxs[0]].T)"
   ]
  },
  {
   "cell_type": "code",
   "execution_count": 36,
   "metadata": {},
   "outputs": [
    {
     "data": {
      "text/plain": [
       "(25289, 25289)"
      ]
     },
     "execution_count": 36,
     "metadata": {},
     "output_type": "execute_result"
    }
   ],
   "source": [
    "gexp_corr0_nonsp.shape"
   ]
  },
  {
   "cell_type": "code",
   "execution_count": 37,
   "metadata": {},
   "outputs": [
    {
     "ename": "AttributeError",
     "evalue": "'tuple' object has no attribute 'shape'",
     "output_type": "error",
     "traceback": [
      "\u001b[0;31m---------------------------------------------------------------------------\u001b[0m",
      "\u001b[0;31mAttributeError\u001b[0m                            Traceback (most recent call last)",
      "\u001b[0;32m<ipython-input-37-256a16732f69>\u001b[0m in \u001b[0;36m<module>\u001b[0;34m\u001b[0m\n\u001b[0;32m----> 1\u001b[0;31m \u001b[0mnp\u001b[0m\u001b[0;34m.\u001b[0m\u001b[0mwhere\u001b[0m\u001b[0;34m(\u001b[0m\u001b[0mnp\u001b[0m\u001b[0;34m.\u001b[0m\u001b[0misnan\u001b[0m\u001b[0;34m(\u001b[0m\u001b[0mgexp_corr0_nonsp\u001b[0m\u001b[0;34m)\u001b[0m\u001b[0;34m[\u001b[0m\u001b[0;36m0\u001b[0m\u001b[0;34m]\u001b[0m\u001b[0;34m)\u001b[0m\u001b[0;34m.\u001b[0m\u001b[0mshape\u001b[0m\u001b[0;34m\u001b[0m\u001b[0;34m\u001b[0m\u001b[0m\n\u001b[0m",
      "\u001b[0;31mAttributeError\u001b[0m: 'tuple' object has no attribute 'shape'"
     ]
    }
   ],
   "source": [
    "np.where(np.isnan(gexp_corr0_nonsp))[0].shape"
   ]
  },
  {
   "cell_type": "code",
   "execution_count": 107,
   "metadata": {},
   "outputs": [
    {
     "name": "stdout",
     "output_type": "stream",
     "text": [
      "CPU times: user 8.34 s, sys: 761 ms, total: 9.1 s\n",
      "Wall time: 7.24 s\n"
     ]
    },
    {
     "data": {
      "text/plain": [
       "2.515287978713839"
      ]
     },
     "execution_count": 107,
     "metadata": {},
     "output_type": "execute_result"
    }
   ],
   "source": [
    "%time dnb_biomarker(0)"
   ]
  },
  {
   "cell_type": "code",
   "execution_count": 108,
   "metadata": {},
   "outputs": [
    {
     "name": "stdout",
     "output_type": "stream",
     "text": [
      "CPU times: user 6.56 s, sys: 523 ms, total: 7.08 s\n",
      "Wall time: 5.34 s\n"
     ]
    }
   ],
   "source": [
    "%time gcorr    = np.corrcoef(gexp[:,nz_gidxs].T)"
   ]
  },
  {
   "cell_type": "code",
   "execution_count": 111,
   "metadata": {},
   "outputs": [
    {
     "name": "stdout",
     "output_type": "stream",
     "text": [
      "CPU times: user 1.81 s, sys: 107 ms, total: 1.91 s\n",
      "Wall time: 2.06 s\n"
     ]
    }
   ],
   "source": [
    "%time non_dnb_corrs = np.mean(np.abs(np.array([gcorr[non_dnb_corr_gidxs[i],non_dnb_corr_gidxs[j]] for i in range(len(dnb_corr_gidxs)) for j in range(len(non_dnb_corr_gidxs))])))\n"
   ]
  },
  {
   "cell_type": "code",
   "execution_count": 84,
   "metadata": {},
   "outputs": [
    {
     "data": {
      "text/plain": [
       "(13565, (13545, 13545), (13545,), (336,))"
      ]
     },
     "execution_count": 84,
     "metadata": {},
     "output_type": "execute_result"
    }
   ],
   "source": [
    "np.amax(dnb_corr_gidxs), gcorr.shape, nz_gidxs.shape, dnb_corr_gidxs.shape"
   ]
  },
  {
   "cell_type": "code",
   "execution_count": 41,
   "metadata": {},
   "outputs": [
    {
     "data": {
      "text/plain": [
       "(456066496,)"
      ]
     },
     "execution_count": 41,
     "metadata": {},
     "output_type": "execute_result"
    }
   ],
   "source": [
    "np.where(np.isnan(gexp_corr0_nonsp))[0].shape"
   ]
  },
  {
   "cell_type": "code",
   "execution_count": 46,
   "metadata": {},
   "outputs": [],
   "source": [
    "gexp0 = gexp_full[neut_pst_cidxs[0]]"
   ]
  },
  {
   "cell_type": "code",
   "execution_count": 48,
   "metadata": {},
   "outputs": [
    {
     "data": {
      "text/plain": [
       "(1000, 25289)"
      ]
     },
     "execution_count": 48,
     "metadata": {},
     "output_type": "execute_result"
    }
   ],
   "source": [
    "gexp0.shape"
   ]
  },
  {
   "cell_type": "code",
   "execution_count": 58,
   "metadata": {},
   "outputs": [],
   "source": [
    "nz_gidxs = np.where(np.sum(gexp0,axis=0)>0)[0]"
   ]
  },
  {
   "cell_type": "code",
   "execution_count": 75,
   "metadata": {},
   "outputs": [],
   "source": [
    "nz_gidxs2 = np.where(np.std(gexp0,axis=0)>0)[0]"
   ]
  },
  {
   "cell_type": "code",
   "execution_count": 63,
   "metadata": {},
   "outputs": [
    {
     "name": "stdout",
     "output_type": "stream",
     "text": [
      "CPU times: user 6.93 s, sys: 632 ms, total: 7.56 s\n",
      "Wall time: 5.48 s\n"
     ]
    }
   ],
   "source": [
    "%time gcorr0 = np.corrcoef(gexp0[:,nz_gidxs].T)"
   ]
  },
  {
   "cell_type": "code",
   "execution_count": 69,
   "metadata": {},
   "outputs": [],
   "source": [
    "dnb_corr_gidxs     = np.intersect1d(nz_gidxs, dnb_gidxs,     assume_unique = True, return_indices=True)[1]\n",
    "non_dnb_corr_gidxs = np.intersect1d(nz_gidxs, non_dnb_gidxs, assume_unique = True, return_indices=True)[1]"
   ]
  },
  {
   "cell_type": "code",
   "execution_count": 73,
   "metadata": {},
   "outputs": [
    {
     "data": {
      "text/plain": [
       "((349,), (336,), (13226,))"
      ]
     },
     "execution_count": 73,
     "metadata": {},
     "output_type": "execute_result"
    }
   ],
   "source": [
    "dnb_gidxs.shape, dnb_corr_gidxs.shape, non_dnb_corr_gidxs.shape"
   ]
  },
  {
   "cell_type": "code",
   "execution_count": null,
   "metadata": {},
   "outputs": [],
   "source": [
    "dnb_corrs = np.array([[corrs[t,dnb_corrgenes[i],dnb_genes[j]] \n",
    "                       for i in range(len(dnb_genes)) \n",
    "                       for j in range(i+1,len(dnb_genes))] \n",
    "                      for t in range(nt)])\n",
    "\n",
    "non_dnb_corrs = np.array([[corrs[t,dnb_genes[i],non_dnb_genes[j]] \n",
    "                       for i in range(len(dnb_genes)) \n",
    "                       for j in range(len(non_dnb_genes))] \n",
    "                       for t in range(nt)])\n"
   ]
  }
 ],
 "metadata": {
  "kernelspec": {
   "display_name": "Python [conda env:bifurc]",
   "language": "python",
   "name": "conda-env-bifurc-py"
  },
  "language_info": {
   "codemirror_mode": {
    "name": "ipython",
    "version": 3
   },
   "file_extension": ".py",
   "mimetype": "text/x-python",
   "name": "python",
   "nbconvert_exporter": "python",
   "pygments_lexer": "ipython3",
   "version": "3.8.0"
  }
 },
 "nbformat": 4,
 "nbformat_minor": 4
}
